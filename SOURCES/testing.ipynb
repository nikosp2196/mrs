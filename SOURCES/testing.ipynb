{
 "cells": [
  {
   "cell_type": "code",
   "execution_count": 1,
   "metadata": {},
   "outputs": [],
   "source": [
    "import pandas as pd\n",
    "import csv\n",
    "from loader import *\n",
    "from pair_finder import *\n",
    "import time\n",
    "from random import seed\n",
    "import keyboard\n",
    "from random import seed\n",
    "from random import randint"
   ]
  },
  {
   "cell_type": "code",
   "execution_count": 2,
   "metadata": {},
   "outputs": [],
   "source": [
    "ratings_path_s = \"DATA\\\\ratings_100users_shuffled.csv\"\n",
    "ratings_path = \"DATA\\\\ratings_100users.csv\"\n",
    "movies_path =  \"DATA\\\\movies.csv\"\n",
    "\n",
    "MinScore = 4\n",
    "MaxCombo = 5\n",
    "MinFrequency = 0.1\n",
    "ratings_stream = createRatingsStream(ratings_path, MinScore)\n",
    "userBaskets, movie_list = CreateMovieBaskets(ratings_path, MinScore, 10)\n",
    "movies_df = ReadMovies(movies_path, movie_list)\n",
    "\n",
    "#combos = myApriori(userBaskets, 0.3, 5)"
   ]
  },
  {
   "cell_type": "code",
   "execution_count": 7,
   "metadata": {},
   "outputs": [
    {
     "output_type": "stream",
     "name": "stdout",
     "text": "User:  1 / 100\nUser:  2 / 100\nUser:  3 / 100\nUser:  4 / 100\nUser:  5 / 100\nUser:  6 / 100\nUser:  7 / 100\nUser:  8 / 100\nUser:  9 / 100\nUser:  10 / 100\n"
    }
   ],
   "source": [
    "\n",
    "tm = TriangularMatrixOfPairsCounters(movies_df, userBaskets)"
   ]
  },
  {
   "cell_type": "code",
   "execution_count": 14,
   "metadata": {},
   "outputs": [
    {
     "output_type": "execute_result",
     "data": {
      "text/plain": "1"
     },
     "metadata": {},
     "execution_count": 14
    }
   ],
   "source": [
    "tm[get_tm_pos((3, 1), movies_df)]"
   ]
  },
  {
   "cell_type": "code",
   "execution_count": 9,
   "metadata": {},
   "outputs": [
    {
     "output_type": "stream",
     "name": "stdout",
     "text": "User:  1 / 100\nUser:  2 / 100\nUser:  3 / 100\nUser:  4 / 100\nUser:  5 / 100\nUser:  6 / 100\nUser:  7 / 100\nUser:  8 / 100\nUser:  9 / 100\nUser:  10 / 100\n"
    }
   ],
   "source": [
    "combo_dict = HashCountersOfPairs(userBaskets)"
   ]
  },
  {
   "cell_type": "code",
   "execution_count": 13,
   "metadata": {},
   "outputs": [
    {
     "output_type": "execute_result",
     "data": {
      "text/plain": "1"
     },
     "metadata": {},
     "execution_count": 13
    }
   ],
   "source": [
    "combo_dict[(3,1)]"
   ]
  },
  {
   "cell_type": "code",
   "execution_count": null,
   "metadata": {},
   "outputs": [],
   "source": [
    "mycombos = export_combos(myApriori(userBaskets, MinFrequency, MaxCombo))"
   ]
  },
  {
   "cell_type": "code",
   "execution_count": null,
   "metadata": {},
   "outputs": [],
   "source": [
    "def sampledApriori(sample_size, ratings_stream, min_frequency, max_length):\n",
    "    SetOfUsers = [] # User so far\n",
    "    sampleOfBaskets = {} # Key: userId, Value: movie_basket\n",
    "    sample_map = [] # Mapping between sample index and userId\n",
    "    for i in range(len(ratings_stream)):\n",
    "\n",
    "        if (keyboard.is_pressed('y') or keyboard.is_pressed('Y')) and i > len(ratings_stream):\n",
    "            combos_dict = myApriori(list(sampleOfBaskets.values()), min_frequency, max_length)\n",
    "            combos = export_combos(combos_dict)\n",
    "\n",
    "            return combos, sampleOfBaskets\n",
    "        else:\n",
    "            current_assessment = ratings_stream.iloc[i]\n",
    "            current_user = int(current_assessment['userId'])\n",
    "            current_movie = int(current_assessment['movieId'])\n",
    "\n",
    "            if current_user not in SetOfUsers:\n",
    "                SetOfUsers.append(current_user)\n",
    "                sampleOfBaskets = reservoir_sampling(len(SetOfUsers), sample_size, sampleOfBaskets, sample_map, current_user)\n",
    "\n",
    "            if current_user in sampleOfBaskets.keys():\n",
    "                sampleOfBaskets[current_user].append(current_movie)\n",
    "    \n",
    "    # do first apriori here\n",
    "    #return sampleOfBaskets.values()\n",
    "    combos_dict_1 = myApriori(list(sampleOfBaskets.values()), min_frequency, max_length)\n",
    "    combos_1 = export_combos(combos_dict_1)\n",
    "\n",
    "    SetOfUsers = []\n",
    "    sampleOfBaskets = {}\n",
    "    sample_map = [] \n",
    "    # Second run\n",
    "    for i in range(len(ratings_stream)):\n",
    "        current_assessment = ratings_stream.iloc[i]\n",
    "        current_user = int(current_assessment['userId'])\n",
    "        current_movie = int(current_assessment['movieId'])\n",
    "\n",
    "        if current_user not in SetOfUsers:\n",
    "            SetOfUsers.append(current_user)\n",
    "            sampleOfBaskets = reservoir_sampling(len(SetOfUsers), sample_size, sampleOfBaskets, sample_map, current_user)\n",
    "\n",
    "        if current_user in sampleOfBaskets.keys():\n",
    "            sampleOfBaskets[current_user].append(current_movie)\n",
    "    \n",
    "    combos_dict_2 = myApriori(list(sampleOfBaskets.values()), min_frequency, max_length)\n",
    "    combos_2 = export_combos(combos_dict_2)\n",
    "\n",
    "    return [c1 for c1 in combos_1 if c1 in combos_2]\n",
    "\n",
    "def reservoir_sampling(n_distinct_users, sample_size, sample_of_baskets, sample_map, current_user):\n",
    "    seed()\n",
    "    if n_distinct_users <= sample_size:\n",
    "        sample_of_baskets[current_user] = []\n",
    "        sample_map.append(current_user)\n",
    "    else:\n",
    "        tmp = randint(0, n_distinct_users)\n",
    "\n",
    "        if tmp < sample_size:\n",
    "            old_user = sample_map[tmp]\n",
    "            sample_map[tmp] = current_user\n",
    "            del sample_of_baskets[old_user]\n",
    "            sample_of_baskets[current_user] = []\n",
    "            \n",
    "\n",
    "    return sample_of_baskets\n",
    "\n",
    "\n",
    "def export_combos(combos_dict):\n",
    "    combos = []\n",
    "    for i in combos_dict.keys():\n",
    "        for j in combos_dict[i].keys():\n",
    "            combos.append(j)\n",
    "    return combos"
   ]
  },
  {
   "cell_type": "code",
   "execution_count": null,
   "metadata": {
    "tags": [
     "outputPrepend",
     "outputPrepend",
     "outputPrepend",
     "outputPrepend",
     "outputPrepend",
     "outputPrepend",
     "outputPrepend",
     "outputPrepend",
     "outputPrepend",
     "outputPrepend",
     "outputPrepend",
     "outputPrepend",
     "outputPrepend",
     "outputPrepend",
     "outputPrepend",
     "outputPrepend",
     "outputPrepend",
     "outputPrepend",
     "outputPrepend",
     "outputPrepend",
     "outputPrepend",
     "outputPrepend",
     "outputPrepend",
     "outputPrepend",
     "outputPrepend",
     "outputPrepend",
     "outputPrepend",
     "outputPrepend",
     "outputPrepend",
     "outputPrepend",
     "outputPrepend",
     "outputPrepend"
    ]
   },
   "outputs": [],
   "source": [
    "combos, sd= sampledApriori(50, ratings_stream, MinFrequency, MaxCombo)"
   ]
  },
  {
   "cell_type": "code",
   "execution_count": null,
   "metadata": {},
   "outputs": [],
   "source": [
    "sd.keys()"
   ]
  },
  {
   "cell_type": "code",
   "execution_count": null,
   "metadata": {},
   "outputs": [],
   "source": [
    "tp = []\n",
    "fp = []\n",
    "fn = []\n",
    "for i in mycombos:\n",
    "    if i in combos:\n",
    "        tp.append(i)\n",
    "    else:\n",
    "        fn.append(i)\n",
    "for i in combos:\n",
    "    if i not in mycombos:\n",
    "        fp.append(i)\n",
    "tp = len(tp)\n",
    "fp = len(fp)\n",
    "fn = len(fn)\n",
    "precision = tp / (tp + fp)\n",
    "recall = tp / (tp + fn)\n",
    "f1 = 2 * (precision * recall) / (precision + recall)"
   ]
  },
  {
   "cell_type": "code",
   "execution_count": null,
   "metadata": {},
   "outputs": [],
   "source": []
  },
  {
   "cell_type": "code",
   "execution_count": null,
   "metadata": {},
   "outputs": [],
   "source": [
    "x = {}\n",
    "k = (1,2)\n",
    "x[k] = 4"
   ]
  },
  {
   "cell_type": "code",
   "execution_count": null,
   "metadata": {},
   "outputs": [],
   "source": [
    "x[(1,2)]"
   ]
  }
 ],
 "metadata": {
  "language_info": {
   "codemirror_mode": {
    "name": "ipython",
    "version": 3
   },
   "file_extension": ".py",
   "mimetype": "text/x-python",
   "name": "python",
   "nbconvert_exporter": "python",
   "pygments_lexer": "ipython3",
   "version": "3.8.2-final"
  },
  "orig_nbformat": 2,
  "kernelspec": {
   "name": "python38264bit087c00796cd34d3ab2062ec5dd503d96",
   "display_name": "Python 3.8.2 64-bit"
  }
 },
 "nbformat": 4,
 "nbformat_minor": 2
}