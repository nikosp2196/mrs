{
 "cells": [
  {
   "cell_type": "code",
   "execution_count": 1,
   "metadata": {},
   "outputs": [],
   "source": [
    "import pandas as pd\n",
    "import csv\n",
    "from loader import *\n",
    "from pair_finder import *\n",
    "import time\n",
    "from random import seed\n",
    "import keyboard\n",
    "from random import seed\n",
    "from random import randint"
   ]
  },
  {
   "cell_type": "code",
   "execution_count": 2,
   "metadata": {},
   "outputs": [],
   "source": [
    "ratings_path_s = \"DATA\\\\ratings_100users_shuffled.csv\"\n",
    "ratings_path = \"DATA\\\\ratings_100users.csv\"\n",
    "movies_path =  \"DATA\\\\movies.csv\"\n",
    "\n",
    "MinScore = 4\n",
    "MaxCombo = 5\n",
    "MinFrequency = 0.2\n",
    "ratings_stream = createRatingsStream(ratings_path, MinScore)\n",
    "userBaskets, movie_list = CreateMovieBaskets(ratings_path, MinScore, 100)\n",
    "movies_df = ReadMovies(movies_path, movie_list)\n",
    "\n",
    "#combos = myApriori(userBaskets, 0.3, 5)"
   ]
  },
  {
   "cell_type": "code",
   "execution_count": 3,
   "metadata": {},
   "outputs": [
    {
     "output_type": "stream",
     "name": "stdout",
     "text": "k: 3 User:  1 / 100\nk: 3 User:  2 / 100\nk: 3 User:  3 / 100\nk: 3 User:  4 / 100\nk: 3 User:  5 / 100\nk: 3 User:  6 / 100\nk: 3 User:  7 / 100\nk: 3 User:  8 / 100\nk: 3 User:  9 / 100\nk: 3 User:  10 / 100\nk: 3 User:  11 / 100\nk: 3 User:  12 / 100\nk: 3 User:  13 / 100\nk: 3 User:  14 / 100\nk: 3 User:  15 / 100\nk: 3 User:  16 / 100\nk: 3 User:  17 / 100\nk: 3 User:  18 / 100\nk: 3 User:  19 / 100\nk: 3 User:  20 / 100\nk: 3 User:  21 / 100\nk: 3 User:  22 / 100\nk: 3 User:  23 / 100\nk: 3 User:  24 / 100\nk: 3 User:  25 / 100\nk: 3 User:  26 / 100\nk: 3 User:  27 / 100\nk: 3 User:  28 / 100\nk: 3 User:  29 / 100\nk: 3 User:  30 / 100\nk: 3 User:  31 / 100\nk: 3 User:  32 / 100\nk: 3 User:  33 / 100\nk: 3 User:  34 / 100\nk: 3 User:  35 / 100\nk: 3 User:  36 / 100\nk: 3 User:  37 / 100\nk: 3 User:  38 / 100\nk: 3 User:  39 / 100\nk: 3 User:  40 / 100\nk: 3 User:  41 / 100\nk: 3 User:  42 / 100\nk: 3 User:  43 / 100\nk: 3 User:  44 / 100\nk: 3 User:  45 / 100\nk: 3 User:  46 / 100\nk: 3 User:  47 / 100\nk: 3 User:  48 / 100\nk: 3 User:  49 / 100\nk: 3 User:  50 / 100\nk: 3 User:  51 / 100\nk: 3 User:  52 / 100\nk: 3 User:  53 / 100\nk: 3 User:  54 / 100\nk: 3 User:  55 / 100\nk: 3 User:  56 / 100\nk: 3 User:  57 / 100\nk: 3 User:  58 / 100\nk: 3 User:  59 / 100\nk: 3 User:  60 / 100\nk: 3 User:  61 / 100\nk: 3 User:  62 / 100\nk: 3 User:  63 / 100\nk: 3 User:  64 / 100\nk: 3 User:  65 / 100\nk: 3 User:  66 / 100\nk: 3 User:  67 / 100\nk: 3 User:  68 / 100\nk: 3 User:  69 / 100\nk: 3 User:  70 / 100\nk: 3 User:  71 / 100\nk: 3 User:  72 / 100\nk: 3 User:  73 / 100\nk: 3 User:  74 / 100\nk: 3 User:  75 / 100\nk: 3 User:  76 / 100\nk: 3 User:  77 / 100\nk: 3 User:  78 / 100\nk: 3 User:  79 / 100\nk: 3 User:  80 / 100\nk: 3 User:  81 / 100\nk: 3 User:  82 / 100\nk: 3 User:  83 / 100\nk: 3 User:  84 / 100\nk: 3 User:  85 / 100\nk: 3 User:  86 / 100\nk: 3 User:  87 / 100\nk: 3 User:  88 / 100\nk: 3 User:  89 / 100\nk: 3 User:  90 / 100\nk: 3 User:  91 / 100\nk: 3 User:  92 / 100\nk: 3 User:  93 / 100\nk: 3 User:  94 / 100\nk: 3 User:  95 / 100\nk: 3 User:  96 / 100\nk: 3 User:  97 / 100\nk: 3 User:  98 / 100\nk: 3 User:  99 / 100\nk: 3 User:  100 / 100\nk: 4 User:  1 / 100\nk: 4 User:  2 / 100\nk: 4 User:  3 / 100\nk: 4 User:  4 / 100\nk: 4 User:  5 / 100\nk: 4 User:  6 / 100\nk: 4 User:  7 / 100\nk: 4 User:  8 / 100\nk: 4 User:  9 / 100\nk: 4 User:  10 / 100\nk: 4 User:  11 / 100\nk: 4 User:  12 / 100\nk: 4 User:  13 / 100\nk: 4 User:  14 / 100\nk: 4 User:  15 / 100\nk: 4 User:  16 / 100\nk: 4 User:  17 / 100\nk: 4 User:  18 / 100\nk: 4 User:  19 / 100\nk: 4 User:  20 / 100\nk: 4 User:  21 / 100\nk: 4 User:  22 / 100\nk: 4 User:  23 / 100\nk: 4 User:  24 / 100\nk: 4 User:  25 / 100\nk: 4 User:  26 / 100\nk: 4 User:  27 / 100\nk: 4 User:  28 / 100\nk: 4 User:  29 / 100\nk: 4 User:  30 / 100\nk: 4 User:  31 / 100\nk: 4 User:  32 / 100\nk: 4 User:  33 / 100\nk: 4 User:  34 / 100\nk: 4 User:  35 / 100\nk: 4 User:  36 / 100\nk: 4 User:  37 / 100\nk: 4 User:  38 / 100\nk: 4 User:  39 / 100\nk: 4 User:  40 / 100\nk: 4 User:  41 / 100\nk: 4 User:  42 / 100\nk: 4 User:  43 / 100\nk: 4 User:  44 / 100\nk: 4 User:  45 / 100\nk: 4 User:  46 / 100\nk: 4 User:  47 / 100\nk: 4 User:  48 / 100\nk: 4 User:  49 / 100\nk: 4 User:  50 / 100\nk: 4 User:  51 / 100\nk: 4 User:  52 / 100\nk: 4 User:  53 / 100\nk: 4 User:  54 / 100\nk: 4 User:  55 / 100\nk: 4 User:  56 / 100\nk: 4 User:  57 / 100\nk: 4 User:  58 / 100\nk: 4 User:  59 / 100\nk: 4 User:  60 / 100\nk: 4 User:  61 / 100\nk: 4 User:  62 / 100\nk: 4 User:  63 / 100\nk: 4 User:  64 / 100\nk: 4 User:  65 / 100\nk: 4 User:  66 / 100\nk: 4 User:  67 / 100\nk: 4 User:  68 / 100\nk: 4 User:  69 / 100\nk: 4 User:  70 / 100\nk: 4 User:  71 / 100\nk: 4 User:  72 / 100\nk: 4 User:  73 / 100\nk: 4 User:  74 / 100\nk: 4 User:  75 / 100\nk: 4 User:  76 / 100\nk: 4 User:  77 / 100\nk: 4 User:  78 / 100\nk: 4 User:  79 / 100\nk: 4 User:  80 / 100\nk: 4 User:  81 / 100\nk: 4 User:  82 / 100\nk: 4 User:  83 / 100\nk: 4 User:  84 / 100\nk: 4 User:  85 / 100\nk: 4 User:  86 / 100\nk: 4 User:  87 / 100\nk: 4 User:  88 / 100\nk: 4 User:  89 / 100\nk: 4 User:  90 / 100\nk: 4 User:  91 / 100\nk: 4 User:  92 / 100\nk: 4 User:  93 / 100\nk: 4 User:  94 / 100\nk: 4 User:  95 / 100\nk: 4 User:  96 / 100\nk: 4 User:  97 / 100\nk: 4 User:  98 / 100\nk: 4 User:  99 / 100\nk: 4 User:  100 / 100\nk: 5 User:  1 / 100\nk: 5 User:  2 / 100\nk: 5 User:  3 / 100\nk: 5 User:  4 / 100\nk: 5 User:  5 / 100\nk: 5 User:  6 / 100\nk: 5 User:  7 / 100\nk: 5 User:  8 / 100\nk: 5 User:  9 / 100\nk: 5 User:  10 / 100\nk: 5 User:  11 / 100\nk: 5 User:  12 / 100\nk: 5 User:  13 / 100\nk: 5 User:  14 / 100\nk: 5 User:  15 / 100\nk: 5 User:  16 / 100\nk: 5 User:  17 / 100\nk: 5 User:  18 / 100\nk: 5 User:  19 / 100\nk: 5 User:  20 / 100\nk: 5 User:  21 / 100\nk: 5 User:  22 / 100\nk: 5 User:  23 / 100\nk: 5 User:  24 / 100\nk: 5 User:  25 / 100\nk: 5 User:  26 / 100\nk: 5 User:  27 / 100\nk: 5 User:  28 / 100\nk: 5 User:  29 / 100\nk: 5 User:  30 / 100\nk: 5 User:  31 / 100\nk: 5 User:  32 / 100\nk: 5 User:  33 / 100\nk: 5 User:  34 / 100\nk: 5 User:  35 / 100\nk: 5 User:  36 / 100\nk: 5 User:  37 / 100\nk: 5 User:  38 / 100\nk: 5 User:  39 / 100\nk: 5 User:  40 / 100\nk: 5 User:  41 / 100\nk: 5 User:  42 / 100\nk: 5 User:  43 / 100\nk: 5 User:  44 / 100\nk: 5 User:  45 / 100\nk: 5 User:  46 / 100\nk: 5 User:  47 / 100\nk: 5 User:  48 / 100\nk: 5 User:  49 / 100\nk: 5 User:  50 / 100\nk: 5 User:  51 / 100\nk: 5 User:  52 / 100\nk: 5 User:  53 / 100\nk: 5 User:  54 / 100\nk: 5 User:  55 / 100\nk: 5 User:  56 / 100\nk: 5 User:  57 / 100\nk: 5 User:  58 / 100\nk: 5 User:  59 / 100\nk: 5 User:  60 / 100\nk: 5 User:  61 / 100\nk: 5 User:  62 / 100\nk: 5 User:  63 / 100\nk: 5 User:  64 / 100\nk: 5 User:  65 / 100\nk: 5 User:  66 / 100\nk: 5 User:  67 / 100\nk: 5 User:  68 / 100\nk: 5 User:  69 / 100\nk: 5 User:  70 / 100\nk: 5 User:  71 / 100\nk: 5 User:  72 / 100\nk: 5 User:  73 / 100\nk: 5 User:  74 / 100\nk: 5 User:  75 / 100\nk: 5 User:  76 / 100\nk: 5 User:  77 / 100\nk: 5 User:  78 / 100\nk: 5 User:  79 / 100\nk: 5 User:  80 / 100\nk: 5 User:  81 /100\nk: 5 User:  82 / 100\nk: 5 User:  83 / 100\nk: 5 User:  84 / 100\nk: 5 User:  85 / 100\nk: 5 User:  86 / 100\nk: 5 User:  87 / 100\nk: 5 User:  88 / 100\nk: 5 User:  89 / 100\nk: 5 User:  90 / 100\nk: 5 User:  91 / 100\nk: 5 User:  92 / 100\nk: 5 User:  93 / 100\nk: 5 User:  94 / 100\nk: 5 User:  95 / 100\nk: 5 User:  96 / 100\nk: 5 User:  97 / 100\nk: 5 User:  98 / 100\nk: 5 User:  99 / 100\nk: 5 User:  100 / 100\nk: 6 User:  1 / 100\nk: 6 User:  2 / 100\nk: 6 User:  3 / 100\nk: 6 User:  4 / 100\nk: 6 User:  5 / 100\nk: 6 User:  6 / 100\nk: 6 User:  7 / 100\nk: 6 User:  8 / 100\nk: 6 User:  9 / 100\nk: 6 User:  10 / 100\nk: 6 User:  11 / 100\nk: 6 User:  12 / 100\nk: 6 User:  13 / 100\nk: 6 User:  14 / 100\nk: 6 User:  15 / 100\nk: 6 User:  16 / 100\nk: 6 User:  17 / 100\nk: 6 User:  18 / 100\nk: 6 User:  19 / 100\nk: 6 User:  20 / 100\nk: 6 User:  21 / 100\nk: 6 User:  22 / 100\nk: 6 User:  23 / 100\nk: 6 User:  24 / 100\nk: 6 User:  25 / 100\nk: 6 User:  26 / 100\nk: 6 User:  27 / 100\nk: 6 User:  28 / 100\nk: 6 User:  29 / 100\nk: 6 User:  30 / 100\nk: 6 User:  31 / 100\nk: 6 User:  32 / 100\nk: 6 User:  33 / 100\nk: 6 User:  34 / 100\nk: 6 User:  35 / 100\nk: 6 User:  36 / 100\nk: 6 User:  37 / 100\nk: 6 User:  38 / 100\nk: 6 User:  39 / 100\nk: 6 User:  40 / 100\nk: 6 User:  41 / 100\nk: 6 User:  42 / 100\nk: 6 User:  43 / 100\nk: 6 User:  44 / 100\nk: 6 User:  45 / 100\nk: 6 User:  46 / 100\nk: 6 User:  47 / 100\nk: 6 User:  48 / 100\nk: 6 User:  49 / 100\nk: 6 User:  50 / 100\nk: 6 User:  51 / 100\nk: 6 User:  52 / 100\nk: 6 User:  53 / 100\nk: 6 User:  54 / 100\nk: 6 User:  55 / 100\nk: 6 User:  56 / 100\nk: 6 User:  57 / 100\nk: 6 User:  58 / 100\nk: 6 User:  59 / 100\nk: 6 User:  60 / 100\nk: 6 User:  61 / 100\nk: 6 User:  62 / 100\nk: 6 User:  63 / 100\nk: 6 User:  64 / 100\nk: 6 User:  65 / 100\nk: 6 User:  66 / 100\nk: 6 User:  67 / 100\nk: 6 User:  68 / 100\nk: 6 User:  69 / 100\nk: 6 User:  70 / 100\nk: 6 User:  71 / 100\nk: 6 User:  72 / 100\nk: 6 User:  73 / 100\nk: 6 User:  74 / 100\nk: 6 User:  75 / 100\nk: 6 User:  76 / 100\nk: 6 User:  77 / 100\nk: 6 User:  78 / 100\nk: 6 User:  79 / 100\nk: 6 User:  80 / 100\nk: 6 User:  81 / 100\nk: 6 User:  82 / 100\nk: 6 User:  83 / 100\nk: 6 User:  84 / 100\nk: 6 User:  85 / 100\nk: 6 User:  86 / 100\nk: 6 User:  87 / 100\nk: 6 User:  88 / 100\nk: 6 User:  89 / 100\nk: 6 User:  90 / 100\nk: 6 User:  91 / 100\nk: 6 User:  92 / 100\nk: 6 User:  93 / 100\nk: 6 User:  94 / 100\nk: 6 User:  95 / 100\nk: 6 User:  96 / 100\nk: 6 User:  97 / 100\nk: 6 User:  98 / 100\nk: 6 User:  99 / 100\nk: 6 User:  100 / 100\nk: 7 User:  1 / 100\nk: 7 User:  2 / 100\nk: 7 User:  3 / 100\nk: 7 User:  4 / 100\nk: 7 User:  5 / 100\nk: 7 User:  6 / 100\nk: 7 User:  7 / 100\nk: 7 User:  8 / 100\nk: 7 User:  9 / 100\nk: 7 User:  10 / 100\nk: 7 User:  11/ 100\nk: 7 User:  12 / 100\nk: 7 User:  13 / 100\nk: 7 User:  14 / 100\nk: 7 User:  15 / 100\nk: 7 User:  16 / 100\nk: 7 User:  17 / 100\nk: 7 User:  18 / 100\nk: 7 User:  19 / 100\nk: 7 User:  20 / 100\nk: 7 User:  21 / 100\nk: 7 User:  22 / 100\nk: 7 User:  23 / 100\nk: 7 User:  24 / 100\nk: 7 User:  25 / 100\nk: 7 User:  26 / 100\nk: 7 User:  27 / 100\nk: 7 User:  28 / 100\nk: 7 User:  29 / 100\nk: 7 User:  30 / 100\nk: 7 User:  31 / 100\nk: 7 User:  32 / 100\nk: 7 User:  33 / 100\nk: 7 User:  34 / 100\nk: 7 User:  35 / 100\nk: 7 User:  36 / 100\nk: 7 User:  37 / 100\nk: 7 User:  38 / 100\nk: 7 User:  39 / 100\nk: 7 User:  40 / 100\nk: 7 User:  41 / 100\nk: 7 User:  42 / 100\nk: 7 User:  43 / 100\nk: 7 User:  44 / 100\nk: 7 User:  45 / 100\nk: 7 User:  46 / 100\nk: 7 User:  47 / 100\nk: 7 User:  48 / 100\nk: 7 User:  49 / 100\nk: 7 User:  50 / 100\nk: 7 User:  51 / 100\nk: 7 User:  52 / 100\nk: 7 User:  53 / 100\nk: 7 User:  54 / 100\nk: 7 User:  55 / 100\nk: 7 User:  56 / 100\nk: 7 User:  57 / 100\nk: 7 User:  58 / 100\nk: 7 User:  59 / 100\nk: 7 User:  60 / 100\nk: 7 User:  61 / 100\nk: 7 User:  62 / 100\nk: 7 User:  63 / 100\nk: 7 User:  64 / 100\nk: 7 User:  65 / 100\nk: 7 User:  66 / 100\nk: 7 User:  67 / 100\nk: 7 User:  68 / 100\nk: 7 User:  69 / 100\nk: 7 User:  70 / 100\nk: 7 User:  71 / 100\nk: 7 User:  72 / 100\nk: 7 User:  73 / 100\nk: 7 User:  74 / 100\nk: 7 User:  75 / 100\nk: 7 User:  76 / 100\nk: 7 User:  77 / 100\nk: 7 User:  78 / 100\nk: 7 User:  79 / 100\nk: 7 User:  80 / 100\nk: 7 User:  81 / 100\nk: 7 User:  82 / 100\nk: 7 User:  83 / 100\nk: 7 User:  84 / 100\nk: 7 User:  85 / 100\nk: 7 User:  86 / 100\nk: 7 User:  87 / 100\nk: 7 User:  88 / 100\nk: 7 User:  89 / 100\nk: 7 User:  90 / 100\nk: 7 User:  91 / 100\nk: 7 User:  92 / 100\nk: 7 User:  93 / 100\nk: 7 User:  94 / 100\nk: 7 User:  95 / 100\nk: 7 User:  96 / 100\nk: 7 User:  97 / 100\nk: 7 User:  98 / 100\nk: 7 User:  99 / 100\nk: 7 User:  100 / 100\n"
    }
   ],
   "source": [
    "mycombos = myApriori(userBaskets, MinFrequency, MaxCombo)"
   ]
  },
  {
   "cell_type": "code",
   "execution_count": 4,
   "metadata": {},
   "outputs": [
    {
     "output_type": "stream",
     "name": "stdout",
     "text": "134\n503\n629\n368\n96\n10\n0\n"
    }
   ],
   "source": [
    "for i in range(1,8):\n",
    "    print(len(mycombos[i]))"
   ]
  },
  {
   "cell_type": "code",
   "execution_count": 17,
   "metadata": {},
   "outputs": [],
   "source": [
    "def sampledApriori(sample_size, ratings_stream, min_frequency, max_length):\n",
    "    combos_1, key_stopped = run_apriori(sample_size, ratings_stream, min_frequency, max_length, key_enabled=True)\n",
    "    \n",
    "    if key_stopped:\n",
    "        return combos_1\n",
    "    \n",
    "    combos_2, key_stopped = run_apriori(sample_size, ratings_stream, min_frequency, max_length)\n",
    "    \n",
    "    return [c1 for c1 in combos_1 if c1 in combos_2]\n",
    "\n",
    "\n",
    "def run_apriori(sample_size, ratings_stream, min_frequency, max_length, key_enabled=False):\n",
    "    SetOfUsers = [] # User so far\n",
    "    sampleOfBaskets = {} # Key: userId, Value: movie_basket\n",
    "    sample_map = [] # Mapping between sample index and userId\n",
    "\n",
    "    key_pressed = False\n",
    "    for i in range(len(ratings_stream)):\n",
    "\n",
    "        if key_enabled and (keyboard.is_pressed('y') or keyboard.is_pressed('Y')) and i > len(ratings_stream):\n",
    "            key_pressed = True\n",
    "            break\n",
    "        else:\n",
    "            current_assessment = ratings_stream.iloc[i]\n",
    "            current_user = int(current_assessment['userId'])\n",
    "            current_movie = int(current_assessment['movieId'])\n",
    "\n",
    "            if current_user not in SetOfUsers:\n",
    "                SetOfUsers.append(current_user)\n",
    "                sampleOfBaskets = reservoir_sampling(len(SetOfUsers), sample_size, sampleOfBaskets, sample_map, current_user)\n",
    "\n",
    "            if current_user in sampleOfBaskets.keys():\n",
    "                sampleOfBaskets[current_user].append(current_movie)\n",
    "    \n",
    "    combos_dict = myApriori(list(sampleOfBaskets.values()), min_frequency, max_length)\n",
    "    combos = export_combos(combos_dict)\n",
    "\n",
    "\n",
    "    return combos, key_pressed\n",
    "\n",
    "\n",
    "def reservoir_sampling(n_distinct_users, sample_size, sample_of_baskets, sample_map, current_user):\n",
    "    seed()\n",
    "    if n_distinct_users <= sample_size:\n",
    "        sample_of_baskets[current_user] = []\n",
    "        sample_map.append(current_user)\n",
    "    else:\n",
    "        tmp = randint(0, n_distinct_users)\n",
    "\n",
    "        if tmp < sample_size:\n",
    "            old_user = sample_map[tmp]\n",
    "            sample_map[tmp] = current_user\n",
    "            del sample_of_baskets[old_user]\n",
    "            sample_of_baskets[current_user] = []\n",
    "            \n",
    "    return sample_of_baskets\n",
    "\n",
    "\n",
    "def export_combos(combos_dict):\n",
    "    combos = []\n",
    "    for i in combos_dict.keys():\n",
    "        for j in combos_dict[i].keys():\n",
    "            combos.append(j)\n",
    "    return combos"
   ]
  },
  {
   "cell_type": "code",
   "execution_count": 18,
   "metadata": {
    "tags": [
     "outputPrepend",
     "outputPrepend",
     "outputPrepend",
     "outputPrepend",
     "outputPrepend",
     "outputPrepend",
     "outputPrepend",
     "outputPrepend",
     "outputPrepend",
     "outputPrepend",
     "outputPrepend",
     "outputPrepend",
     "outputPrepend",
     "outputPrepend",
     "outputPrepend",
     "outputPrepend",
     "outputPrepend",
     "outputPrepend",
     "outputPrepend",
     "outputPrepend",
     "outputPrepend",
     "outputPrepend",
     "outputPrepend",
     "outputPrepend",
     "outputPrepend",
     "outputPrepend",
     "outputPrepend",
     "outputPrepend",
     "outputPrepend",
     "outputPrepend",
     "outputPrepend",
     "outputPrepend"
    ]
   },
   "outputs": [
    {
     "output_type": "stream",
     "name": "stdout",
     "text": "k: 3 User:  1 / 50\nk: 3 User:  2 / 50\nk: 3 User:  3 / 50\nk: 3 User:  4 / 50\nk: 3 User:  5 / 50\nk: 3 User:  6 / 50\nk: 3 User:  7 / 50\nk: 3 User:  8 / 50\nk: 3 User:  9 / 50\nk: 3 User:  10 / 50\nk: 3 User:  11 / 50\nk: 3 User: 12 / 50\nk: 3 User:  13 / 50\nk: 3 User:  14 / 50\nk: 3 User:  15 / 50\nk: 3 User:  16 / 50\nk: 3 User:  17 / 50\nk: 3 User:  18 / 50\nk: 3 User:  19 / 50\nk: 3 User:  20 / 50\nk: 3 User:  21 / 50\nk: 3 User:  22 / 50\nk: 3 User:  23 / 50\nk: 3 User:  24 / 50\nk: 3 User:  25 / 50\nk: 3 User:  26 / 50\nk: 3 User:  27 / 50\nk: 3 User:  28 / 50\nk: 3 User:  29 / 50\nk: 3 User:  30 / 50\nk: 3 User:  31 / 50\nk: 3 User:  32 / 50\nk: 3 User:  33 / 50\nk: 3 User:  34 / 50\nk: 3 User:  35 / 50\nk: 3 User:  36 / 50\nk: 3 User:  37 / 50\nk: 3 User:  38 / 50\nk: 3 User:  39 / 50\nk: 3 User:  40 / 50\nk: 3 User:  41 / 50\nk: 3 User:  42 / 50\nk: 3 User:  43 / 50\nk: 3 User:  44 / 50\nk: 3 User:  45 / 50\nk: 3 User:  46 / 50\nk: 3 User:  47 / 50\nk: 3 User:  48 / 50\nk: 3 User: 49 / 50\nk: 3 User:  50 / 50\nk: 4 User:  1 / 50\nk: 4 User:  2 / 50\nk: 4 User:  3 / 50\nk: 4 User:  4 / 50\nk: 4 User:  5 / 50\nk: 4 User:  6 / 50\nk: 4 User:  7 / 50\nk: 4 User:  8 / 50\nk: 4 User:  9 / 50\nk: 4 User:  10 / 50\nk: 4 User:  11 / 50\nk: 4 User:  12 / 50\nk: 4 User:  13 / 50\nk: 4 User:  14 / 50\nk: 4 User:  15 / 50\nk: 4 User:  16 / 50\nk: 4 User:  17 / 50\nk: 4 User:  18 / 50\nk: 4 User:  19 / 50\nk: 4 User:  20 / 50\nk: 4 User:  21 / 50\nk: 4 User:  22 / 50\nk: 4 User:  23 / 50\nk: 4 User:  24 / 50\nk: 4 User:  25 / 50\nk: 4 User:  26 / 50\nk: 4 User:  27 / 50\nk: 4 User:  28 / 50\nk: 4 User:  29 / 50\nk: 4 User:  30 / 50\nk: 4 User:  31 / 50\nk: 4 User:  32 / 50\nk: 4 User:  33 / 50\nk: 4 User:  34 / 50\nk: 4 User:  35 / 50\nk: 4 User:  36 / 50\nk: 4 User:  37 / 50\nk: 4 User:  38 / 50\nk: 4 User:  39 / 50\nk: 4 User:  40 / 50\nk: 4 User:  41 / 50\nk: 4 User:  42 / 50\nk: 4 User:  43 / 50\nk: 4 User:  44 / 50\nk: 4 User:  45 / 50\nk: 4 User:  46 / 50\nk: 4 User:  47 / 50\nk: 4 User:  48 / 50\nk: 4 User:  49 / 50\nk: 4 User:  50 / 50\nk: 5 User:  1 / 50\nk: 5 User:  2 / 50\nk: 5 User:  3 / 50\nk: 5 User:  4 / 50\nk: 5 User:  5 / 50\nk: 5 User:  6 / 50\nk: 5 User:  7 / 50\nk: 5 User:  8 / 50\nk: 5 User:  9 / 50\nk: 5 User:  10 / 50\nk: 5 User:  11 / 50\nk: 5 User:  12 / 50\nk: 5 User:  13 / 50\nk: 5 User:  14 / 50\nk: 5 User:  15 / 50\nk: 5 User:  16 / 50\nk: 5 User:  17 / 50\nk: 5 User:  18 / 50\nk: 5 User:  19 / 50\nk: 5 User:  20 / 50\nk: 5 User:  21 / 50\nk: 5 User:  22 / 50\nk: 5 User:  23 / 50\nk: 5 User:  24 / 50\nk: 5 User:  25 / 50\nk: 5 User:  26 / 50\nk: 5 User:  27 / 50\nk: 5 User:  28 / 50\nk: 5 User:  29 / 50\nk: 5 User:  30 / 50\nk: 5 User:  31 / 50\nk: 5 User:  32 / 50\nk: 5 User:  33 / 50\nk: 5 User:  34 / 50\nk: 5 User:  35 / 50\nk: 5 User:  36 / 50\nk: 5 User:  37 / 50\nk: 5 User:  38 / 50\nk: 5 User:  39 / 50\nk: 5 User:40 / 50\nk: 5 User:  41 / 50\nk: 5 User:  42 / 50\nk: 5 User:  43 / 50\nk: 5 User:  44 / 50\nk: 5 User:  45 / 50\nk: 5 User:  46 / 50\nk: 5 User:  47 / 50\nk: 5 User:  48 / 50\nk: 5 User:  49 / 50\nk: 5 User:  50 / 50\nk: 6 User:  1 / 50\nk: 6 User:  2 / 50\nk: 6 User:  3 / 50\nk: 6 User:  4 / 50\nk: 6 User:  5 / 50\nk: 6 User:  6 / 50\nk: 6 User:  7 / 50\nk: 6 User:  8 / 50\nk: 6 User:  9 / 50\nk: 6 User:  10 / 50\nk: 6 User:  11 / 50\nk: 6 User:  12 / 50\nk: 6 User:  13 / 50\nk: 6 User:  14 / 50\nk: 6 User:  15 / 50\nk: 6 User:  16 / 50\nk: 6 User:  17 / 50\nk: 6 User:  18 / 50\nk: 6 User:  19 / 50\nk: 6 User:  20 / 50\nk: 6 User:  21 / 50\nk: 6 User:  22 / 50\nk: 6 User:  23 / 50\nk: 6 User:  24 / 50\nk: 6 User:  25 / 50\nk: 6 User:  26 / 50\nk: 6 User:  27 / 50\nk: 6 User:  28 / 50\nk: 6 User:  29 / 50\nk: 6 User:  30 / 50\nk: 6 User:  31 / 50\nk: 6 User:  32 / 50\nk: 6 User:  33 / 50\nk: 6 User:  34 / 50\nk: 6 User:  35 / 50\nk: 6 User:  36 / 50\nk: 6 User:  37 / 50\nk: 6 User:  38 / 50\nk: 6 User:  39 / 50\nk: 6 User:  40 / 50\nk: 6 User:  41 / 50\nk: 6 User:  42 / 50\nk: 6 User:  43 / 50\nk: 6 User:  44 / 50\nk: 6 User:  45 / 50\nk: 6 User:  46 / 50\nk: 6 User:  47 / 50\nk: 6 User:  48 / 50\nk: 6 User:  49 / 50\nk: 6 User:  50 / 50\nk: 7 User:  1 / 50\nk: 7 User:  2 / 50\nk: 7 User:  3 / 50\nk: 7 User:  4 / 50\nk: 7 User:  5 / 50\nk: 7 User:  6 /50\nk: 7 User:  7 / 50\nk: 7 User:  8 / 50\nk: 7 User:  9 / 50\nk: 7 User:  10 / 50\nk: 7 User:  11 / 50\nk: 7 User:  12 / 50\nk: 7 User:  13 / 50\nk: 7 User:  14 / 50\nk: 7 User:  15 / 50\nk: 7 User:  16 / 50\nk: 7 User:  17 / 50\nk: 7 User:  18 / 50\nk: 7 User:  19 / 50\nk: 7 User:  20 / 50\nk: 7 User:  21 / 50\nk: 7 User:  22 / 50\nk: 7 User:  23 / 50\nk: 7 User:  24 / 50\nk: 7 User:  25 / 50\nk: 7 User:  26 / 50\nk: 7 User:  27 / 50\nk: 7 User:  28 / 50\nk: 7 User:  29 / 50\nk: 7 User:  30 / 50\nk: 7 User:  31 / 50\nk: 7 User:  32 / 50\nk: 7 User:  33 / 50\nk: 7 User:  34 / 50\nk: 7 User:  35 / 50\nk: 7 User:  36 / 50\nk: 7User:  37 / 50\nk: 7 User:  38 / 50\nk: 7 User:  39 / 50\nk: 7 User:  40 / 50\nk: 7 User:  41 / 50\nk: 7 User:  42 / 50\nk: 7 User:  43 / 50\nk: 7 User:  44 / 50\nk: 7 User:  45 / 50\nk: 7 User:  46 / 50\nk: 7 User:  47 / 50\nk: 7 User:  48 / 50\nk: 7 User:  49 / 50\nk: 7 User:  50 / 50\nk: 3 User:  1 / 50\nk: 3 User:  2 / 50\nk: 3 User:  3 / 50\nk: 3 User:  4 / 50\nk: 3 User:  5 / 50\nk: 3 User:  6 / 50\nk: 3 User:  7 / 50\nk: 3 User:  8 / 50\nk: 3 User:  9 / 50\nk: 3 User:  10 / 50\nk: 3 User:  11 / 50\nk: 3 User:  12 / 50\nk: 3 User:  13 /50\nk: 3 User:  14 / 50\nk: 3 User:  15 / 50\nk: 3 User:  16 / 50\nk: 3 User:  17 / 50\nk: 3 User:  18 / 50\nk: 3 User:  19 / 50\nk: 3 User:  20 / 50\nk: 3 User:  21 / 50\nk: 3 User:  22 / 50\nk: 3 User:  23 / 50\nk: 3 User:  24 / 50\nk: 3 User:  25 / 50\nk: 3 User:  26 / 50\nk: 3 User:  27 / 50\nk: 3 User:  28 / 50\nk: 3 User:  29 / 50\nk: 3 User:  30 / 50\nk: 3 User:  31 / 50\nk: 3 User:  32 / 50\nk: 3 User:  33 / 50\nk: 3 User:  34 / 50\nk: 3 User:  35 / 50\nk: 3 User:  36 / 50\nk: 3 User:  37 / 50\nk: 3 User:  38 / 50\nk: 3 User:  39 / 50\nk: 3 User:  40 / 50\nk: 3 User:  41 / 50\nk: 3 User:  42 / 50\nk: 3 User:  43 / 50\nk: 3 User:  44 / 50\nk: 3 User:  45 / 50\nk: 3 User:  46 / 50\nk: 3 User:  47 / 50\nk: 3 User:  48 / 50\nk: 3 User:  49 / 50\nk: 3 User:  50 / 50\nk: 4 User:  1 / 50\nk: 4 User:  2 / 50\nk: 4 User:  3 / 50\nk: 4 User:  4 / 50\nk: 4 User:  5 / 50\nk: 4 User:  6 / 50\nk: 4 User:  7 / 50\nk: 4 User:  8 / 50\nk: 4 User:  9 / 50\nk: 4 User:  10 / 50\nk: 4 User:  11 / 50\nk: 4 User:  12 / 50\nk: 4 User:  13 / 50\nk: 4 User:  14 / 50\nk: 4 User:  15 / 50\nk: 4 User:  16 / 50\nk: 4 User:  17 / 50\nk: 4 User:  18 / 50\nk: 4 User:  19 / 50\nk: 4 User:  20 / 50\nk: 4 User:  21 / 50\nk: 4 User:  22 / 50\nk: 4 User:  23 / 50\nk: 4 User:  24 / 50\nk: 4 User:  25 / 50\nk: 4 User:  26 / 50\nk: 4 User:  27 / 50\nk: 4 User:  28 / 50\nk: 4 User:  29 / 50\nk: 4 User:  30 / 50\nk: 4 User:  31 / 50\nk: 4 User:  32 / 50\nk: 4 User:  33 / 50\nk: 4 User:  34 / 50\nk: 4 User:  35 / 50\nk: 4 User:  36 / 50\nk: 4 User:  37 / 50\nk: 4 User:  38 / 50\nk: 4 User:  39 / 50\nk: 4 User:  40 / 50\nk: 4 User:  41 / 50\nk: 4 User:  42 / 50\nk: 4 User:  43 / 50\nk: 4 User:  44 / 50\nk: 4 User:  45 / 50\nk: 4 User:  46 / 50\nk: 4 User:  47 / 50\nk: 4 User:  48 / 50\nk: 4 User:  49 / 50\nk: 4 User:  50 / 50\nk: 5 User:  1 / 50\nk: 5 User:  2 / 50\nk: 5 User:  3 / 50\nk: 5 User:  4 / 50\nk: 5 User:  5 / 50\nk: 5 User:  6 / 50\nk: 5 User:  7 / 50\nk: 5 User:  8 / 50\nk: 5 User:  9 / 50\nk: 5 User:  10 / 50\nk: 5 User:  11 / 50\nk: 5 User:  12 / 50\nk: 5 User:  13 / 50\nk: 5 User:  14 / 50\nk: 5 User:  15 / 50\nk: 5 User:  16 / 50\nk: 5 User:  17 / 50\nk: 5 User:  18 / 50\nk: 5 User:  19 / 50\nk: 5 User:  20 / 50\nk: 5 User:  21 / 50\nk: 5 User:  22 / 50\nk: 5 User:  23 / 50\nk: 5 User:  24 / 50\nk: 5 User:  25 / 50\nk: 5 User:  26 / 50\nk: 5 User:  27 / 50\nk: 5 User:  28 / 50\nk: 5 User:  29 / 50\nk: 5 User:  30 / 50\nk: 5 User:  31 / 50\nk: 5 User:  32 / 50\nk: 5 User:  33 / 50\nk: 5 User:  34 / 50\nk: 5 User:  35 / 50\nk: 5 User:  36 / 50\nk: 5 User:  37 / 50\nk: 5 User:  38 / 50\nk: 5 User:  39 / 50\nk: 5 User:  40 / 50\nk: 5 User:  41 / 50\nk: 5 User:  42 / 50\nk: 5 User:  43 / 50\nk: 5 User:  44 / 50\nk: 5 User:  45 / 50\nk: 5 User:  46 / 50\nk: 5 User:  47 / 50\nk: 5 User:  48 / 50\nk: 5 User:  49 / 50\nk: 5 User:  50 / 50\nk: 6 User:  1 / 50\nk: 6 User:  2 / 50\nk: 6 User:  3 / 50\nk: 6 User:  4 / 50\nk: 6 User:  5 / 50\nk: 6 User:  6 / 50\nk: 6 User:  7 / 50\nk: 6 User:  8 / 50\nk: 6 User:  9 / 50\nk: 6 User:  10 / 50\nk: 6 User:  11 / 50\nk: 6 User:  12 / 50\nk: 6 User:  13 / 50\nk: 6 User:  14 / 50\nk: 6 User:  15 / 50\nk: 6 User:  16 / 50\nk: 6 User:  17 / 50\nk: 6 User:  18 / 50\nk: 6 User:  19 / 50\nk: 6 User:  20 / 50\nk: 6 User:  21 / 50\nk: 6 User:  22 / 50\nk: 6 User:  23 / 50\nk: 6 User:  24 / 50\nk: 6 User:  25 / 50\nk: 6 User:  26 / 50\nk: 6 User:  27 / 50\nk: 6 User:  28 / 50\nk: 6 User:  29 / 50\nk: 6 User:  30 / 50\nk: 6 User:  31 / 50\nk: 6 User:  32 / 50\nk: 6 User:  33 / 50\nk: 6 User:  34 / 50\nk: 6 User:  35 / 50\nk: 6 User:  36 / 50\nk: 6 User:  37 / 50\nk: 6 User:  38 / 50\nk: 6 User:  39 / 50\nk: 6 User:  40 / 50\nk: 6 User:  41 / 50\nk: 6 User:  42 / 50\nk: 6 User:  43 / 50\nk: 6 User:  44 / 50\nk: 6 User:  45 / 50\nk: 6 User:  46 / 50\nk: 6 User:  47 / 50\nk: 6 User:  48 / 50\nk: 6 User:  49 / 50\nk: 6 User:  50 / 50\nk: 7 User:  1 / 50\nk: 7 User:  2 / 50\nk: 7 User:  3 / 50\nk: 7 User:  4 / 50\nk: 7 User:  5 / 50\nk: 7 User:  6 / 50\nk: 7 User:  7 / 50\nk: 7 User:  8 / 50\nk: 7 User:  9 / 50\nk: 7 User:  10 / 50\nk: 7 User:  11 / 50\nk: 7 User:  12 / 50\nk: 7 User:  13 / 50\nk: 7 User:  14 / 50\nk: 7 User:  15 / 50\nk: 7 User:  16 / 50\nk: 7 User:  17 / 50\nk: 7 User:  18 / 50\nk: 7 User:  19 / 50\nk: 7 User:  20 / 50\nk: 7 User:  21 / 50\nk: 7 User:  22 / 50\nk: 7 User:  23 / 50\nk: 7 User:  24 / 50\nk: 7 User:  25 / 50\nk: 7 User:  26 / 50\nk: 7 User:  27 / 50\nk: 7 User:  28 / 50\nk: 7 User:  29 / 50\nk: 7 User:  30 / 50\nk: 7 User:  31 / 50\nk: 7 User:  32 / 50\nk: 7 User:  33 / 50\nk: 7 User:  34 / 50\nk: 7 User:  35 / 50\nk: 7 User:  36 / 50\nk: 7 User:  37 / 50\nk: 7 User:  38 / 50\nk: 7 User:  39 / 50\nk: 7 User:  40 / 50\nk: 7 User:  41 / 50\nk: 7 User:  42 / 50\nk: 7 User:  43 / 50\nk: 7 User:  44 / 50\nk: 7 User:  45 / 50\nk: 7 User:  46 / 50\nk: 7 User:  47 / 50\nk: 7 User:  48 / 50\nk: 7 User:  49 / 50\nk: 7 User:  50 / 50\n"
    }
   ],
   "source": [
    "combos= sampledApriori(50, ratings_stream, MinFrequency, MaxCombo)"
   ]
  },
  {
   "cell_type": "code",
   "execution_count": 19,
   "metadata": {},
   "outputs": [
    {
     "output_type": "execute_result",
     "data": {
      "text/plain": "6280"
     },
     "metadata": {},
     "execution_count": 19
    }
   ],
   "source": [
    "len(combos)"
   ]
  },
  {
   "cell_type": "code",
   "execution_count": 1,
   "metadata": {},
   "outputs": [
    {
     "output_type": "error",
     "ename": "NameError",
     "evalue": "name 'mycombos' is not defined",
     "traceback": [
      "\u001b[1;31m---------------------------------------------------------------------------\u001b[0m",
      "\u001b[1;31mNameError\u001b[0m                                 Traceback (most recent call last)",
      "\u001b[1;32m<ipython-input-1-d4b106b2d42f>\u001b[0m in \u001b[0;36m<module>\u001b[1;34m\u001b[0m\n\u001b[0;32m      1\u001b[0m \u001b[0mmycombos_f\u001b[0m \u001b[1;33m=\u001b[0m \u001b[1;33m[\u001b[0m\u001b[1;33m]\u001b[0m\u001b[1;33m\u001b[0m\u001b[1;33m\u001b[0m\u001b[0m\n\u001b[1;32m----> 2\u001b[1;33m \u001b[1;32mfor\u001b[0m \u001b[0mi\u001b[0m \u001b[1;32min\u001b[0m \u001b[0mmycombos\u001b[0m\u001b[1;33m.\u001b[0m\u001b[0mkeys\u001b[0m\u001b[1;33m(\u001b[0m\u001b[1;33m)\u001b[0m\u001b[1;33m:\u001b[0m\u001b[1;33m\u001b[0m\u001b[1;33m\u001b[0m\u001b[0m\n\u001b[0m\u001b[0;32m      3\u001b[0m     \u001b[1;32mfor\u001b[0m \u001b[0mj\u001b[0m \u001b[1;32min\u001b[0m \u001b[0mmycombos\u001b[0m\u001b[1;33m[\u001b[0m\u001b[0mi\u001b[0m\u001b[1;33m]\u001b[0m\u001b[1;33m.\u001b[0m\u001b[0mkeys\u001b[0m\u001b[1;33m(\u001b[0m\u001b[1;33m)\u001b[0m\u001b[1;33m:\u001b[0m\u001b[1;33m\u001b[0m\u001b[1;33m\u001b[0m\u001b[0m\n\u001b[0;32m      4\u001b[0m         \u001b[0mmycombos_f\u001b[0m\u001b[1;33m.\u001b[0m\u001b[0mappend\u001b[0m\u001b[1;33m(\u001b[0m\u001b[0mj\u001b[0m\u001b[1;33m)\u001b[0m\u001b[1;33m\u001b[0m\u001b[1;33m\u001b[0m\u001b[0m\n",
      "\u001b[1;31mNameError\u001b[0m: name 'mycombos' is not defined"
     ]
    }
   ],
   "source": [
    "mycombos_f = []\n",
    "for i in mycombos.keys():\n",
    "    for j in mycombos[i].keys():\n",
    "        mycombos_f.append(j)"
   ]
  },
  {
   "cell_type": "code",
   "execution_count": 2,
   "metadata": {},
   "outputs": [
    {
     "output_type": "error",
     "ename": "NameError",
     "evalue": "name 'combos' is not defined",
     "traceback": [
      "\u001b[1;31m---------------------------------------------------------------------------\u001b[0m",
      "\u001b[1;31mNameError\u001b[0m                                 Traceback (most recent call last)",
      "\u001b[1;32m<ipython-input-2-32db2365797f>\u001b[0m in \u001b[0;36m<module>\u001b[1;34m\u001b[0m\n\u001b[0;32m      7\u001b[0m     \u001b[1;32melse\u001b[0m\u001b[1;33m:\u001b[0m\u001b[1;33m\u001b[0m\u001b[1;33m\u001b[0m\u001b[0m\n\u001b[0;32m      8\u001b[0m         \u001b[0mfn\u001b[0m\u001b[1;33m.\u001b[0m\u001b[0mappend\u001b[0m\u001b[1;33m(\u001b[0m\u001b[0mi\u001b[0m\u001b[1;33m)\u001b[0m\u001b[1;33m\u001b[0m\u001b[1;33m\u001b[0m\u001b[0m\n\u001b[1;32m----> 9\u001b[1;33m \u001b[1;32mfor\u001b[0m \u001b[0mi\u001b[0m \u001b[1;32min\u001b[0m \u001b[0mcombos\u001b[0m\u001b[1;33m:\u001b[0m\u001b[1;33m\u001b[0m\u001b[1;33m\u001b[0m\u001b[0m\n\u001b[0m\u001b[0;32m     10\u001b[0m     \u001b[1;32mif\u001b[0m \u001b[0mi\u001b[0m \u001b[1;32mnot\u001b[0m \u001b[1;32min\u001b[0m \u001b[0mmycombos_f\u001b[0m\u001b[1;33m:\u001b[0m\u001b[1;33m\u001b[0m\u001b[1;33m\u001b[0m\u001b[0m\n\u001b[0;32m     11\u001b[0m         \u001b[0mfp\u001b[0m\u001b[1;33m.\u001b[0m\u001b[0mappend\u001b[0m\u001b[1;33m(\u001b[0m\u001b[0mi\u001b[0m\u001b[1;33m)\u001b[0m\u001b[1;33m\u001b[0m\u001b[1;33m\u001b[0m\u001b[0m\n",
      "\u001b[1;31mNameError\u001b[0m: name 'combos' is not defined"
     ]
    }
   ],
   "source": [
    "tp = []\n",
    "fp = []\n",
    "fn = []\n",
    "for i in mycombos_f:\n",
    "    if i in combos:\n",
    "        tp.append(i)\n",
    "    else:\n",
    "        fn.append(i)\n",
    "for i in combos:\n",
    "    if i not in mycombos_f:\n",
    "        fp.append(i)\n",
    "tp = len(tp)\n",
    "fp = len(fp)\n",
    "fn = len(fn)\n",
    "precision = tp / (tp + fp)\n",
    "recall = tp / (tp + fn)\n",
    "f1 = 2 * (precision * recall) / (precision + recall)"
   ]
  },
  {
   "cell_type": "code",
   "execution_count": null,
   "metadata": {},
   "outputs": [],
   "source": [
    "print(precision, recall, f1)"
   ]
  },
  {
   "cell_type": "code",
   "execution_count": null,
   "metadata": {},
   "outputs": [],
   "source": [
    "x = {}\n",
    "k = (1,2,3)\n",
    "x[k] = 4"
   ]
  },
  {
   "cell_type": "code",
   "execution_count": null,
   "metadata": {},
   "outputs": [],
   "source": [
    "1 in (1,2,3)"
   ]
  },
  {
   "cell_type": "code",
   "execution_count": null,
   "metadata": {},
   "outputs": [],
   "source": [
    "p = [(1,2,3), (1,2,3), (2,3,4)]\n",
    "set(p)"
   ]
  }
 ],
 "metadata": {
  "language_info": {
   "codemirror_mode": {
    "name": "ipython",
    "version": 3
   },
   "file_extension": ".py",
   "mimetype": "text/x-python",
   "name": "python",
   "nbconvert_exporter": "python",
   "pygments_lexer": "ipython3",
   "version": "3.8.2-final"
  },
  "orig_nbformat": 2,
  "kernelspec": {
   "name": "python38264bit087c00796cd34d3ab2062ec5dd503d96",
   "display_name": "Python 3.8.2 64-bit"
  }
 },
 "nbformat": 4,
 "nbformat_minor": 2
}