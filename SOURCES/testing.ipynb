{
 "cells": [
  {
   "cell_type": "code",
   "execution_count": 6,
   "metadata": {},
   "outputs": [],
   "source": [
    "import pandas as pd\n",
    "import csv\n",
    "from loader import CreateMovieBaskets, ReadMovies\n",
    "import time"
   ]
  },
  {
   "cell_type": "code",
   "execution_count": 7,
   "metadata": {},
   "outputs": [],
   "source": [
    "ratings_path = \"DATA\\\\ratings_100users.csv\"\n",
    "movies_path =  \"DATA\\\\movies.csv\"\n",
    "MinScore = 4.5 # CHANGE THIS TO USER INPUT\n",
    "\n",
    "UserBaskets,movies_list = CreateMovieBaskets(ratings_path,MinScore, limit=20)\n",
    "movies_df = ReadMovies(movies_path)\n",
    "movies_df = movies_df[movies_df['movieId'].isin(movies_list)].reset_index(drop=True)\n",
    "\n"
   ]
  },
  {
   "cell_type": "code",
   "execution_count": 8,
   "metadata": {},
   "outputs": [
    {
     "output_type": "stream",
     "name": "stdout",
     "text": "[(1, 0), (2, 0), (2, 1)]\n[(2, 1), (3, 1), (3, 2)]\n[(1, 0), (3, 0), (3, 1)]\n[(3, 1), (4, 1), (4, 3)]\n"
    }
   ],
   "source": [
    "ub = [\n",
    "    [0,1,2],\n",
    "    [1,2,3],\n",
    "    [0,1,3],\n",
    "    [1,3,4]\n",
    "]\n",
    "for i in ub:\n",
    "    print(get_pairs(i))"
   ]
  },
  {
   "cell_type": "code",
   "execution_count": 9,
   "metadata": {},
   "outputs": [],
   "source": [
    "\n",
    "\n",
    "def get_pairs(basket):\n",
    "    pair_list = []\n",
    "\n",
    "    for x in range(1,len(basket)):\n",
    "        for y in range(x):\n",
    "            pair_list.append((basket[x], basket[y]))\n",
    "\n",
    "    return pair_list\n",
    "\n",
    "\n",
    "def TriangularMatrixOfPairsCounters(movies_df, user_baskets):\n",
    "    n = len(movies_df)\n",
    "    tm_size = int(n * (n - 1) / 2)\n",
    "    triangular_matrix = [0] * tm_size\n",
    "    pos_to_index_map = {}\n",
    "    tm_pos = 0\n",
    "    for j in range(0,n-1):\n",
    "        for i in range(j+1,n):\n",
    "            pos_to_index_map[tm_pos] = (i,j)\n",
    "            tm_pos += 1\n",
    "\n",
    "\n",
    "    for i,b in enumerate(user_baskets):\n",
    "        b_combos = get_pairs(b)\n",
    "        print(\"User: \", i + 1, \"/ 100\")\n",
    "        for c in b_combos:\n",
    "            x = movies_df[movies_df['movieId'] == c[0]].index[0]\n",
    "            y = movies_df[movies_df['movieId'] == c[1]].index[0]\n",
    "            \n",
    "            pos = get_tm_pos((x,y), n)\n",
    "            triangular_matrix[pos] += 1\n",
    "    \n",
    "    return triangular_matrix, pos_to_index_map\n",
    "\n",
    "\n",
    "def get_tm_pos(pair,n):\n",
    "    if pair[0] < pair[1]:\n",
    "        i = pair[0]\n",
    "        j = pair[1]\n",
    "    else:\n",
    "        i = pair[1]\n",
    "        j = pair[0]\n",
    "    # This formula\n",
    "    return int(i * (n - (i + 1) / 2) + j - i - 1)\n",
    "\n",
    "\n",
    "def HashCountersOfPairs(movies_df, user_baskets):\n",
    "    pair_dict = {}\n",
    "\n",
    "    for i,b in enumerate(user_baskets):\n",
    "        combos = get_pairs(b)\n",
    "        print(\"User: \", i + 1, \"/ 100\")\n",
    "        for c in combos:\n",
    "            combo_key = f\"({c[0]},{c[1]})\"\n",
    "\n",
    "            if combo_key not in pair_dict.keys():\n",
    "                pair_dict[combo_key] = 1\n",
    "            else:\n",
    "                pair_dict[combo_key] += 1\n",
    "\n",
    "    return pair_dict\n",
    "            \n",
    "        \n"
   ]
  },
  {
   "cell_type": "code",
   "execution_count": 10,
   "metadata": {},
   "outputs": [
    {
     "output_type": "stream",
     "name": "stdout",
     "text": "User:  1 / 100\nUser:  2 / 100\nUser:  3 / 100\nUser:  4 / 100\nUser:  5 / 100\nUser:  6 / 100\nUser:  7 / 100\nUser:  8 / 100\nUser:  9 / 100\nUser:  10 / 100\nUser:  11 / 100\nUser:  12 / 100\nUser:  13 / 100\nUser:  14 / 100\nUser:  15 / 100\nUser:  16 / 100\nUser:  17 / 100\nUser:  18 / 100\nUser:  19 / 100\nUser:  20 / 100\n4 4131\n"
    }
   ],
   "source": [
    "tm, mapper = TriangularMatrixOfPairsCounters(movies_df, UserBaskets)\n",
    "for i,c in enumerate(tm):\n",
    "    if c == 4:\n",
    "        \n",
    "        print(c, i)\n",
    "        break"
   ]
  },
  {
   "cell_type": "code",
   "execution_count": 11,
   "metadata": {},
   "outputs": [
    {
     "output_type": "execute_result",
     "data": {
      "text/plain": "(73, 9)"
     },
     "metadata": {},
     "execution_count": 11
    }
   ],
   "source": [
    "mapper[4131]"
   ]
  },
  {
   "cell_type": "code",
   "execution_count": 12,
   "metadata": {},
   "outputs": [
    {
     "output_type": "stream",
     "name": "stdout",
     "text": "527 50\n"
    }
   ],
   "source": [
    "x = movies_df.iloc[73]['movieId']\n",
    "y = movies_df.iloc[9]['movieId']\n",
    "print(x,y)"
   ]
  },
  {
   "cell_type": "code",
   "execution_count": 13,
   "metadata": {
    "tags": [
     "outputPrepend",
     "outputPrepend",
     "outputPrepend",
     "outputPrepend",
     "outputPrepend",
     "outputPrepend",
     "outputPrepend",
     "outputPrepend",
     "outputPrepend",
     "outputPrepend",
     "outputPrepend",
     "outputPrepend",
     "outputPrepend",
     "outputPrepend",
     "outputPrepend",
     "outputPrepend",
     "outputPrepend",
     "outputPrepend",
     "outputPrepend"
    ]
   },
   "outputs": [
    {
     "output_type": "stream",
     "name": "stdout",
     "text": "User:  1 / 100\nUser:  2 / 100\nUser:  3 / 100\nUser:  4 / 100\nUser:  5 / 100\nUser:  6 / 100\nUser:  7 / 100\nUser:  8 / 100\nUser:  9 / 100\nUser:  10 / 100\nUser:  11 / 100\nUser:  12 / 100\nUser:  13 / 100\nUser:  14 / 100\nUser:  15 / 100\nUser:  16 / 100\nUser:  17 / 100\nUser:  18 / 100\nUser:  19 / 100\nUser:  20 / 100\n"
    }
   ],
   "source": [
    "pair_dict = HashCountersOfPairs(movies_df, UserBaskets)"
   ]
  },
  {
   "cell_type": "code",
   "execution_count": 14,
   "metadata": {},
   "outputs": [
    {
     "output_type": "execute_result",
     "data": {
      "text/plain": "4"
     },
     "metadata": {},
     "execution_count": 14
    }
   ],
   "source": [
    "pair_dict['(527,50)']"
   ]
  }
 ],
 "metadata": {
  "language_info": {
   "codemirror_mode": {
    "name": "ipython",
    "version": 3
   },
   "file_extension": ".py",
   "mimetype": "text/x-python",
   "name": "python",
   "nbconvert_exporter": "python",
   "pygments_lexer": "ipython3",
   "version": "3.8.2-final"
  },
  "orig_nbformat": 2,
  "kernelspec": {
   "name": "python38264bit087c00796cd34d3ab2062ec5dd503d96",
   "display_name": "Python 3.8.2 64-bit"
  }
 },
 "nbformat": 4,
 "nbformat_minor": 2
}