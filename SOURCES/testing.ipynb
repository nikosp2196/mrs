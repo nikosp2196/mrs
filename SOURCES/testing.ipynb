{
 "cells": [
  {
   "cell_type": "code",
   "execution_count": 1,
   "metadata": {},
   "outputs": [],
   "source": [
    "import pandas as pd\n",
    "import csv\n",
    "from loader import *\n",
    "from pair_finder import *\n",
    "import time"
   ]
  },
  {
   "cell_type": "code",
   "execution_count": 2,
   "metadata": {},
   "outputs": [
    {
     "output_type": "execute_result",
     "data": {
      "text/plain": "      userId  movieId  rating\n0          1       47     5.0\n1          1       50     5.0\n2          1      101     5.0\n3          1      151     5.0\n4          1      157     5.0\n...      ...      ...     ...\n3771     100     5989     4.5\n3772     100     6059     4.5\n3773     100     6183     4.5\n3774     100     6785     4.5\n3775     100     8636     4.5\n\n[3776 rows x 3 columns]",
      "text/html": "<div>\n<style scoped>\n    .dataframe tbody tr th:only-of-type {\n        vertical-align: middle;\n    }\n\n    .dataframe tbody tr th {\n        vertical-align: top;\n    }\n\n    .dataframe thead th {\n        text-align: right;\n    }\n</style>\n<table border=\"1\" class=\"dataframe\">\n  <thead>\n    <tr style=\"text-align: right;\">\n      <th></th>\n      <th>userId</th>\n      <th>movieId</th>\n      <th>rating</th>\n    </tr>\n  </thead>\n  <tbody>\n    <tr>\n      <th>0</th>\n      <td>1</td>\n      <td>47</td>\n      <td>5.0</td>\n    </tr>\n    <tr>\n      <th>1</th>\n      <td>1</td>\n      <td>50</td>\n      <td>5.0</td>\n    </tr>\n    <tr>\n      <th>2</th>\n      <td>1</td>\n      <td>101</td>\n      <td>5.0</td>\n    </tr>\n    <tr>\n      <th>3</th>\n      <td>1</td>\n      <td>151</td>\n      <td>5.0</td>\n    </tr>\n    <tr>\n      <th>4</th>\n      <td>1</td>\n      <td>157</td>\n      <td>5.0</td>\n    </tr>\n    <tr>\n      <th>...</th>\n      <td>...</td>\n      <td>...</td>\n      <td>...</td>\n    </tr>\n    <tr>\n      <th>3771</th>\n      <td>100</td>\n      <td>5989</td>\n      <td>4.5</td>\n    </tr>\n    <tr>\n      <th>3772</th>\n      <td>100</td>\n      <td>6059</td>\n      <td>4.5</td>\n    </tr>\n    <tr>\n      <th>3773</th>\n      <td>100</td>\n      <td>6183</td>\n      <td>4.5</td>\n    </tr>\n    <tr>\n      <th>3774</th>\n      <td>100</td>\n      <td>6785</td>\n      <td>4.5</td>\n    </tr>\n    <tr>\n      <th>3775</th>\n      <td>100</td>\n      <td>8636</td>\n      <td>4.5</td>\n    </tr>\n  </tbody>\n</table>\n<p>3776 rows × 3 columns</p>\n</div>"
     },
     "metadata": {},
     "execution_count": 2
    }
   ],
   "source": [
    "ratings_path = \"DATA\\\\ratings_100users.csv\"\n",
    "MinScore = 4.5\n",
    "ratings_stream = createRatingsStream(ratings_path, MinScore)\n",
    "ratings_stream"
   ]
  },
  {
   "cell_type": "code",
   "execution_count": 12,
   "metadata": {},
   "outputs": [
    {
     "output_type": "execute_result",
     "data": {
      "text/plain": "3776"
     },
     "metadata": {},
     "execution_count": 12
    }
   ],
   "source": [
    "from random import seed\n",
    "from random import randint\n",
    "\n",
    "def reservoir_sampling(number_of_distinct_users_so_far, sample_size, sample_of_baskets, current_user):\n",
    "    seed()\n",
    "    if number_of_distinct_users_so_far > sample_size:\n",
    "        tmp = randint(0, number_of_distinct_users_so_far)\n",
    "\n",
    "        if tmp < sample_size:\n",
    "            ##\n",
    "    else:\n",
    "        ##\n",
    "    return sampleOfBaskets\n",
    "    "
   ]
  },
  {
   "cell_type": "code",
   "execution_count": 37,
   "metadata": {},
   "outputs": [
    {
     "output_type": "stream",
     "name": "stdout",
     "text": "New user 1\nNew user 2\nNew user 3\nNew user 4\nNew user 5\nNew user 6\nNew user 7\nNew user 8\nNew user 9\nNew user 10\nNew user 11\nNew user 12\nNew user 13\nNew user 14\nNew user 15\nNew user 16\nNew user 17\nNew user 18\n"
    },
    {
     "output_type": "execute_result",
     "data": {
      "text/plain": "1223.0"
     },
     "metadata": {},
     "execution_count": 37
    }
   ],
   "source": [
    "import keyboard\n",
    "from random import seed\n",
    "from random import randint\n",
    "\n",
    "SetOfUsers = []\n",
    "sampleOfBaskets = {}\n",
    "\n",
    "for i in range(len(ratings_stream)):\n",
    "\n",
    "    if keyboard.is_pressed('y') or keyboard.is_pressed('Y'):\n",
    "        break\n",
    "    else:\n",
    "        current_assessment = ratings_stream.iloc[i]\n",
    "        current_user = current_assessment['userId']\n",
    "        current_movie = current_assessment['movieId']\n",
    "\n",
    "        if current_user not in SetOfUsers:\n",
    "            SetOfUsers.append(current_user)\n",
    "            print('New user', len(SetOfUsers)) # Add Reservoir sampling\n",
    "\n",
    "        if current_user in sampleOfBaskets:\n",
    "\n",
    "            sampleOfBaskets[current_user].append(current_movies)\n",
    "\n",
    "current_movie"
   ]
  },
  {
   "cell_type": "code",
   "execution_count": 25,
   "metadata": {},
   "outputs": [
    {
     "output_type": "error",
     "ename": "TypeError",
     "evalue": "'DataFrame' object is not an iterator",
     "traceback": [
      "\u001b[1;31m---------------------------------------------------------------------------\u001b[0m",
      "\u001b[1;31mTypeError\u001b[0m                                 Traceback (most recent call last)",
      "\u001b[1;32m<ipython-input-25-a2ea37955ee7>\u001b[0m in \u001b[0;36m<module>\u001b[1;34m\u001b[0m\n\u001b[1;32m----> 1\u001b[1;33m \u001b[0mnext\u001b[0m\u001b[1;33m(\u001b[0m\u001b[0mratings_stream\u001b[0m\u001b[1;33m)\u001b[0m\u001b[1;33m\u001b[0m\u001b[1;33m\u001b[0m\u001b[0m\n\u001b[0m",
      "\u001b[1;31mTypeError\u001b[0m: 'DataFrame' object is not an iterator"
     ]
    }
   ],
   "source": []
  }
 ],
 "metadata": {
  "language_info": {
   "codemirror_mode": {
    "name": "ipython",
    "version": 3
   },
   "file_extension": ".py",
   "mimetype": "text/x-python",
   "name": "python",
   "nbconvert_exporter": "python",
   "pygments_lexer": "ipython3",
   "version": "3.8.2-final"
  },
  "orig_nbformat": 2,
  "kernelspec": {
   "name": "python38264bit087c00796cd34d3ab2062ec5dd503d96",
   "display_name": "Python 3.8.2 64-bit"
  }
 },
 "nbformat": 4,
 "nbformat_minor": 2
}