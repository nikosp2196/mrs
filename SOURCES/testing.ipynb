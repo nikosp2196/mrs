{
 "cells": [
  {
   "cell_type": "code",
   "execution_count": 1,
   "metadata": {},
   "outputs": [],
   "source": [
    "import pandas as pd\n",
    "import csv\n",
    "from loader import *\n",
    "from pair_finder import *\n",
    "import time\n",
    "from random import seed\n",
    "import keyboard\n",
    "from random import seed\n",
    "from random import randint"
   ]
  },
  {
   "cell_type": "code",
   "execution_count": 2,
   "metadata": {},
   "outputs": [],
   "source": [
    "ratings_path = \"DATA\\\\ratings.csv\"\n",
    "MinScore = 4.5\n",
    "ratings_stream = createRatingsStream(ratings_path, MinScore)\n",
    "#userBaskets, movie_list = CreateMovieBaskets(ratings_path, 0.4, 100)\n",
    "#combos = myApriori(userBaskets, 0.3, 5)"
   ]
  },
  {
   "cell_type": "code",
   "execution_count": 6,
   "metadata": {},
   "outputs": [],
   "source": [
    "def sampledApriori(sample_size, ratings_stream, min_frequency, max_length):\n",
    "    SetOfUsers = [] # User so far\n",
    "    sampleOfBaskets = {} # Key: userId, Value: movie_basket\n",
    "    sample_map = [] # Mapping between sample index and userId\n",
    "    for i in range(len(ratings_stream)):\n",
    "\n",
    "        if keyboard.is_pressed('y') or keyboard.is_pressed('Y'):\n",
    "            combos_1 = list(myApriori(sampleOfBaskets.values, min_frequency, max_length).keys())\n",
    "            return combos_1\n",
    "        else:\n",
    "            current_assessment = ratings_stream.iloc[i]\n",
    "            current_user = int(current_assessment['userId'])\n",
    "            current_movie = int(current_assessment['movieId'])\n",
    "\n",
    "            if current_user not in SetOfUsers:\n",
    "                SetOfUsers.append(current_user)\n",
    "                sampleOfBaskets = reservoir_sampling(len(SetOfUsers), sample_size, sampleOfBaskets, sample_map, current_user)\n",
    "\n",
    "            if current_user in sampleOfBaskets.keys():\n",
    "                sampleOfBaskets[current_user].append(current_movie)\n",
    "    \n",
    "    # do first apriori here\n",
    "    #return sampleOfBaskets.values()\n",
    "    combos_dict_1 = myApriori(list(sampleOfBaskets.values()), min_frequency, max_length)\n",
    "    combos_1 = []\n",
    "    for i in combos_dict_1.keys():\n",
    "        for j in combos_dict_1[i].keys():\n",
    "            combos_1.append(combos_dict_1[i][j])\n",
    "\n",
    "\n",
    "    SetOfUsers = []\n",
    "    sampleOfBaskets = {}\n",
    "    sample_map = [] \n",
    "    # Second run\n",
    "    for i in range(len(ratings_stream)):\n",
    "        current_assessment = ratings_stream.iloc[i]\n",
    "        current_user = int(current_assessment['userId'])\n",
    "        current_movie = int(current_assessment['movieId'])\n",
    "\n",
    "        if current_user not in SetOfUsers:\n",
    "            SetOfUsers.append(current_user)\n",
    "            sampleOfBaskets = reservoir_sampling(len(SetOfUsers), sample_size, sampleOfBaskets, sample_map, current_user)\n",
    "\n",
    "        if current_user in sampleOfBaskets.keys():\n",
    "            sampleOfBaskets[current_user].append(current_movie)\n",
    "    combos_dict_2 = myApriori(list(sampleOfBaskets.values()), min_frequency, max_length)\n",
    "    combos_2 = []\n",
    "    for i in combos_dict_2.keys():\n",
    "        for j in combos_dict_2[i].keys():\n",
    "            combos_1.append(combos_dict_2[i][j])\n",
    "\n",
    "    #return combos_dict_1, combos_dict_2\n",
    "    return [c1 for c1 in combos_1 if c1 in combos_2]\n",
    "\n",
    "def reservoir_sampling(n_distinct_users, sample_size, sample_of_baskets, sample_map, current_user):\n",
    "    seed()\n",
    "    if n_distinct_users <= sample_size:\n",
    "        sample_of_baskets[current_user] = []\n",
    "        sample_map.append(current_user)\n",
    "    else:\n",
    "        tmp = randint(0, n_distinct_users)\n",
    "\n",
    "        if tmp < sample_size:\n",
    "            old_user = sample_map[tmp]\n",
    "            sample_map[tmp] = current_user\n",
    "            del sample_of_baskets[old_user]\n",
    "            sample_of_baskets[current_user] = []\n",
    "            \n",
    "\n",
    "    return sample_of_baskets\n",
    "    "
   ]
  },
  {
   "cell_type": "code",
   "execution_count": 7,
   "metadata": {},
   "outputs": [
    {
     "output_type": "stream",
     "name": "stdout",
     "text": "k: 3 User:  1 / 100\nk: 3 User:  2 / 100\nk: 3 User:  3 / 100\nk: 3 User:  4 / 100\nk: 3 User:  5 / 100\nk: 3 User:  6 / 100\nk: 3 User:  7 / 100\nk: 3 User:  8 / 100\nk: 3 User:  9 / 100\nk: 3 User:  10 / 100\nk: 3 User:  11 / 100\nk: 3 User:  12 / 100\nk: 3 User:  13 / 100\nk: 3 User:  14 / 100\nk: 3 User:  15 / 100\nk: 3 User:  16 / 100\nk: 3 User:  17 / 100\nk: 3 User:  18 / 100\nk: 3 User:  19 / 100\nk: 3 User:  20 / 100\nk: 3 User:  21 / 100\nk: 3 User:  22 / 100\nk: 3 User:  23 / 100\nk: 3 User:  24 / 100\nk: 3 User:  25 / 100\nk: 3 User:  26 / 100\nk: 3 User:  27 / 100\nk: 3 User:  28 / 100\nk: 3 User:  29 / 100\nk: 3 User:  30 / 100\nk: 3 User:  31 / 100\nk: 3 User:  32 / 100\nk: 3 User:  33 / 100\nk: 3 User:  34 / 100\nk: 3 User:  35 / 100\nk: 3 User:  36 / 100\nk: 3 User:  37 / 100\nk: 3 User:  38 / 100\nk: 3 User:  39 / 100\nk: 3 User:  40 / 100\nk: 3 User:  41 / 100\nk: 3 User:  42 / 100\nk: 3 User:  43 / 100\nk: 3 User:  44 / 100\nk: 3 User:  45 / 100\nk: 3 User:  46 / 100\nk: 3 User:  47 / 100\nk: 3 User:  48 / 100\nk: 3 User:  49 / 100\nk: 3 User:  50 / 100\nk: 3 User:  51 / 100\nk: 3 User:  52 / 100\nk: 3 User:  53 / 100\nk: 3 User:  54 / 100\nk: 3 User:  55 / 100\nk: 3 User:  56 / 100\nk: 3 User:  57 / 100\nk: 3 User:  58 / 100\nk: 3 User:  59 / 100\nk: 3 User:  60 / 100\nk: 3 User:  61 / 100\nk: 3 User:  62 / 100\nk: 3 User:  63 / 100\nk: 3 User:  64 / 100\nk: 3 User:  65 /100\nk: 3 User:  66 / 100\nk: 3 User:  67 / 100\nk: 3 User:  68 / 100\nk: 3 User:  69 / 100\nk: 3 User:  70 / 100\nk: 3 User:  71 / 100\nk: 3 User:  72 / 100\nk: 3 User:  73 / 100\nk: 3 User:  74 / 100\nk: 3 User:  75 / 100\nk: 3 User:  76 / 100\nk: 3 User:  77 / 100\nk: 3 User:  78 / 100\nk: 3 User:  79 / 100\nk: 3 User:  80 / 100\nk: 3 User:  81 / 100\nk: 3 User:  82 / 100\nk: 3 User:  83 / 100\nk: 3 User:  84 / 100\nk: 3 User:  85 / 100\nk: 3 User:  86 / 100\nk: 3 User:  87 / 100\nk: 3 User:  88 / 100\nk: 3 User:  89 / 100\nk: 3 User:  90 / 100\nk: 3 User:  91 / 100\nk: 3 User:  92 / 100\nk: 3 User:  93 / 100\nk: 3 User:  94 / 100\nk: 3 User:  95 / 100\nk: 3 User:  96 / 100\nk: 3 User:  97 / 100\nk: 3 User:  98 / 100\nk: 3 User:  99 / 100\nk: 3 User:  100 / 100\nk: 4 User:  1 / 100\nk: 4 User:  2 / 100\nk: 4 User:  3 / 100\nk: 4 User:  4 / 100\nk: 4 User:  5 / 100\nk: 4 User:  6 / 100\nk: 4 User:  7 / 100\nk: 4 User:  8 / 100\nk: 4 User:  9 / 100\nk: 4 User:  10 / 100\nk: 4 User:  11 / 100\nk: 4 User:  12 / 100\nk: 4 User:  13 / 100\nk: 4 User:  14 / 100\nk: 4 User:  15 / 100\nk: 4 User:  16 / 100\nk: 4 User:  17 / 100\nk: 4 User:  18 / 100\nk: 4 User:  19 / 100\nk: 4 User:  20 / 100\nk: 4 User:  21 / 100\nk: 4 User:  22 / 100\nk: 4 User:  23 / 100\nk: 4 User:  24 / 100\nk: 4 User:  25 / 100\nk: 4 User:  26 / 100\nk: 4 User:  27 / 100\nk: 4 User:  28 / 100\nk: 4 User:  29 / 100\nk: 4 User:  30 / 100\nk: 4 User:  31 / 100\nk: 4 User:  32 / 100\nk: 4 User:  33 / 100\nk: 4 User:  34 / 100\nk: 4 User:  35 / 100\nk: 4 User:  36 / 100\nk: 4 User:  37 / 100\nk: 4 User:  38 / 100\nk: 4 User:  39 / 100\nk: 4 User:  40 / 100\nk: 4 User:  41 / 100\nk: 4 User:  42 / 100\nk: 4 User:  43 / 100\nk: 4 User:  44 / 100\nk: 4 User:  45 / 100\nk: 4 User:  46 / 100\nk: 4 User:  47 / 100\nk: 4 User:  48 / 100\nk: 4 User:  49 / 100\nk: 4 User:  50 / 100\nk: 4 User:  51 / 100\nk: 4 User:  52 / 100\nk: 4 User:  53 / 100\nk: 4 User:  54 / 100\nk: 4 User:  55 / 100\nk: 4 User:  56 / 100\nk: 4 User:  57 / 100\nk: 4 User:  58 / 100\nk: 4 User:  59 / 100\nk: 4 User:  60 / 100\nk: 4 User:  61 / 100\nk: 4 User:  62 / 100\nk: 4 User:  63 / 100\nk: 4 User:  64 / 100\nk: 4 User:  65 / 100\nk: 4 User:  66 / 100\nk: 4 User:  67 / 100\nk: 4 User:  68 / 100\nk: 4 User:  69 / 100\nk: 4 User:  70 / 100\nk: 4 User:  71 / 100\nk: 4 User:  72 / 100\nk: 4 User:  73 / 100\nk: 4 User:  74 / 100\nk: 4 User:  75 / 100\nk: 4 User:  76 / 100\nk: 4 User:  77 / 100\nk: 4 User:  78 / 100\nk: 4 User:  79 / 100\nk: 4 User:  80 / 100\nk: 4 User:  81 / 100\nk: 4 User:  82 / 100\nk: 4 User:  83 / 100\nk: 4 User:  84 / 100\nk: 4 User:  85 / 100\nk: 4 User:  86 / 100\nk: 4 User:  87 / 100\nk: 4 User:  88 / 100\nk: 4 User:  89 / 100\nk: 4 User:  90 / 100\nk: 4 User:  91 / 100\nk: 4 User:  92 / 100\nk: 4 User:  93 / 100\nk: 4 User:  94 / 100\nk: 4 User:  95 / 100\nk: 4 User:  96 / 100\nk: 4 User:  97 / 100\nk: 4 User:  98 / 100\nk: 4 User:  99 / 100\nk: 4 User:  100 / 100\nk: 5 User:  1 / 100\nk: 5 User:  2 / 100\nk: 5 User:  3 / 100\nk: 5 User:  4 / 100\nk: 5 User:  5 / 100\nk: 5 User:  6 / 100\nk: 5 User:  7 / 100\nk: 5 User:  8 / 100\nk: 5 User:  9 / 100\nk: 5 User:  10 / 100\nk: 5 User:  11 / 100\nk: 5 User:  12 / 100\nk: 5 User:  13 / 100\nk: 5 User:  14 / 100\nk: 5 User:  15 / 100\nk: 5 User:  16 / 100\nk: 5 User:  17 / 100\nk: 5 User:  18 / 100\nk: 5 User:  19 / 100\nk: 5 User:  20 / 100\nk: 5 User:  21 / 100\nk: 5 User:  22 / 100\nk: 5 User:  23 / 100\nk: 5 User:  24 / 100\nk: 5 User:  25 / 100\nk: 5 User:  26 / 100\nk: 5 User:  27 / 100\nk: 5 User:  28 / 100\nk: 5 User:  29 / 100\nk: 5 User:  30 / 100\nk: 5 User:  31 / 100\nk: 5 User:  32 / 100\nk: 5 User:  33 / 100\nk: 5 User:  34 / 100\nk: 5 User:  35 / 100\nk: 5 User:  36 / 100\nk: 5 User:  37 / 100\nk: 5 User:  38 / 100\nk: 5 User:  39 / 100\nk: 5 User:  40 / 100\nk: 5 User:  41 / 100\nk: 5 User:  42 / 100\nk: 5 User:  43 / 100\nk: 5 User:  44 / 100\nk: 5 User:  45 / 100\nk: 5 User:  46 / 100\nk: 5 User:  47 / 100\nk: 5 User:  48 / 100\nk: 5 User:  49 / 100\nk: 5 User:  50 / 100\nk: 5 User:  51 / 100\nk: 5 User:  52 / 100\nk: 5 User:  53 / 100\nk: 5 User:  54 / 100\nk: 5 User:  55 / 100\nk: 5 User:  56 / 100\nk: 5 User:  57 / 100\nk: 5 User:  58 / 100\nk: 5 User:  59 / 100\nk: 5 User:  60 / 100\nk: 5 User:  61 / 100\nk: 5 User:  62 / 100\nk: 5 User:  63 / 100\nk: 5 User:  64 / 100\nk: 5 User:  65 / 100\nk: 5 User:  66 / 100\nk: 5 User:  67 / 100\nk: 5 User:  68 / 100\nk: 5 User:  69 / 100\nk: 5 User:  70 / 100\nk: 5 User:  71 / 100\nk: 5 User:  72 / 100\nk: 5 User:  73 / 100\nk: 5 User:  74 / 100\nk: 5 User:  75 / 100\nk: 5 User:  76 / 100\nk: 5 User:  77 / 100\nk: 5 User:  78 / 100\nk: 5 User:  79 / 100\nk: 5 User:  80 / 100\nk: 5 User:  81 / 100\nk: 5 User:  82 / 100\nk: 5 User:  83 / 100\nk: 5 User:  84 / 100\nk: 5 User:  85 / 100\nk: 5 User:  86 / 100\nk: 5 User:  87 / 100\nk: 5 User:  88 / 100\nk: 5 User:  89 / 100\nk: 5 User:  90 / 100\nk: 5 User:  91 / 100\nk: 5 User:  92 / 100\nk: 5 User:  93 / 100\nk: 5 User:  94 / 100\nk: 5 User:  95 / 100\nk: 5 User:  96 / 100\nk: 5 User:  97 / 100\nk: 5 User:  98 / 100\nk: 5 User:  99 / 100\nk: 5 User:  100 / 100\nk: 3 User:  1 / 100\nk: 3 User:  2 / 100\nk: 3 User:  3 / 100\nk: 3 User:  4 / 100\nk: 3 User:  5 / 100\nk: 3 User:  6 / 100\nk: 3 User:  7 / 100\nk: 3 User:  8 / 100\nk: 3 User:  9 / 100\nk: 3 User:  10 / 100\nk: 3 User:  11 / 100\nk: 3 User:  12 / 100\nk: 3 User:  13 / 100\nk: 3 User:  14 / 100\nk: 3 User:  15 / 100\nk: 3 User:  16 / 100\nk: 3 User:  17 / 100\nk: 3 User:  18 / 100\nk: 3 User:  19 / 100\nk: 3 User:  20 / 100\nk: 3 User:  21 / 100\nk: 3 User:  22 / 100\nk: 3 User:  23 / 100\nk: 3 User:  24 / 100\nk: 3 User:  25 / 100\nk: 3 User:  26 / 100\nk: 3 User:  27 / 100\nk: 3 User:  28 / 100\nk: 3 User:  29 / 100\nk: 3 User:  30 / 100\nk: 3 User:  31 / 100\nk: 3 User:  32 / 100\nk: 3 User:  33 / 100\nk: 3 User:  34 / 100\nk: 3 User:  35 / 100\nk: 3 User:  36 / 100\nk: 3 User:  37 / 100\nk: 3 User:  38 / 100\nk: 3 User:  39 / 100\nk: 3 User:  40 / 100\nk: 3 User:  41 / 100\nk: 3 User:  42 / 100\nk: 3 User:  43 / 100\nk: 3 User:  44 / 100\nk: 3 User:  45 / 100\nk: 3 User:  46 / 100\nk: 3 User:  47 / 100\nk: 3 User:  48 / 100\nk: 3 User:  49 / 100\nk: 3 User:  50 / 100\nk: 3 User:  51 / 100\nk: 3 User:  52 / 100\nk: 3 User:  53 / 100\nk: 3 User:  54 / 100\nk: 3 User:  55 / 100\nk: 3 User:  56 / 100\nk: 3 User:  57 / 100\nk: 3 User:  58 / 100\nk: 3 User:  59 / 100\nk: 3 User:  60 / 100\nk: 3 User:  61 / 100\nk: 3 User:  62 / 100\nk: 3 User:  63 / 100\nk: 3 User:  64 / 100\nk: 3 User:  65 / 100\nk: 3 User:  66 / 100\nk: 3 User:  67 / 100\nk: 3 User:  68 / 100\nk: 3 User:  69 / 100\nk: 3 User:  70 / 100\nk: 3 User:  71 / 100\nk: 3 User:  72 / 100\nk: 3 User:  73 / 100\nk: 3 User:  74 / 100\nk: 3 User:  75 / 100\nk: 3 User:  76 / 100\nk: 3 User:  77 / 100\nk: 3 User:  78 / 100\nk: 3 User:  79 / 100\nk: 3 User:  80 / 100\nk: 3 User:  81 / 100\nk: 3 User:  82 / 100\nk: 3 User:  83 / 100\nk: 3 User:  84 / 100\nk: 3 User:  85 / 100\nk: 3 User:  86 / 100\nk: 3 User:  87 / 100\nk: 3 User:  88 / 100\nk: 3 User:  89 / 100\nk: 3 User:  90 / 100\nk: 3 User:  91 / 100\nk: 3 User:  92 / 100\nk: 3 User:  93 / 100\nk: 3 User:  94 / 100\nk: 3 User:  95 / 100\nk: 3 User:  96 / 100\nk: 3 User:  97 / 100\nk: 3 User:  98 / 100\nk: 3 User:  99 / 100\nk: 3 User:  100 / 100\nk: 4 User:  1 / 100\nk: 4 User:  2 / 100\nk: 4 User:  3 / 100\nk: 4 User:  4 / 100\nk: 4 User:  5 / 100\nk: 4 User:  6 / 100\nk: 4 User:  7 / 100\nk: 4 User:  8 / 100\nk: 4 User:  9 / 100\nk: 4 User:  10 / 100\nk: 4 User:  11 / 100\nk: 4 User:  12 / 100\nk: 4 User:  13 / 100\nk: 4 User:  14 / 100\nk: 4 User:  15 / 100\nk: 4 User:  16 / 100\nk: 4 User:  17 / 100\nk: 4 User:  18 / 100\nk: 4 User:  19 / 100\nk: 4 User:  20 / 100\nk: 4 User:  21 / 100\nk: 4 User:  22 / 100\nk: 4 User:  23 / 100\nk: 4 User:  24 / 100\nk: 4 User:  25 / 100\nk: 4 User:  26 / 100\nk: 4 User:  27 / 100\nk: 4 User:  28 / 100\nk: 4 User:  29 / 100\nk: 4 User:  30 / 100\nk: 4 User:  31 / 100\nk: 4 User:  32 / 100\nk: 4 User:  33 / 100\nk: 4 User:  34 / 100\nk: 4 User:  35 / 100\nk: 4 User:  36 / 100\nk: 4 User:  37 / 100\nk: 4 User:  38 / 100\nk: 4 User:  39 / 100\nk: 4 User:  40 / 100\nk: 4 User:  41 / 100\nk: 4 User:  42 / 100\nk: 4 User:  43 / 100\nk: 4 User:  44 / 100\nk: 4 User:  45 / 100\nk: 4 User:  46 / 100\nk: 4 User:  47 / 100\nk: 4 User:  48 / 100\nk: 4 User:  49 / 100\nk: 4 User:  50 / 100\nk: 4 User:  51 / 100\nk: 4 User:  52 / 100\nk: 4 User:  53 / 100\nk: 4 User:  54 / 100\nk: 4 User:  55 / 100\nk: 4 User:  56 / 100\nk: 4 User:  57 / 100\nk: 4 User:  58 / 100\nk: 4 User:  59 / 100\nk: 4 User:  60 / 100\nk: 4 User:  61 / 100\nk: 4 User:  62 / 100\nk: 4 User:  63 / 100\nk: 4 User:  64 / 100\nk: 4 User:  65 / 100\nk: 4 User:  66 / 100\nk: 4 User:  67 / 100\nk: 4 User:  68 / 100\nk: 4 User:  69 / 100\nk: 4 User:  70 / 100\nk: 4 User:  71 / 100\nk: 4 User:  72 / 100\nk: 4 User:  73 / 100\nk: 4 User:  74 / 100\nk: 4 User:  75 / 100\nk: 4 User:  76 / 100\nk: 4 User:  77 / 100\nk: 4 User:  78 / 100\nk: 4 User:  79 / 100\nk: 4 User:  80 / 100\nk: 4 User:  81 / 100\nk: 4 User:  82 / 100\nk: 4 User:  83 / 100\nk: 4 User:  84 / 100\nk: 4 User:  85 / 100\nk: 4 User:  86 / 100\nk: 4 User:  87 / 100\nk: 4 User:  88 / 100\nk: 4 User:  89 / 100\nk: 4 User:  90 / 100\nk: 4 User:  91 / 100\nk: 4 User:  92 / 100\nk: 4 User:  93 / 100\nk: 4 User:  94 / 100\nk: 4 User:  95 / 100\nk: 4 User:  96 / 100\nk: 4 User:  97 / 100\nk: 4 User:  98 / 100\nk: 4 User:  99 / 100\nk: 4 User:  100 / 100\n"
    }
   ],
   "source": [
    "combos = sampledApriori(100, ratings_stream, 0.1, 5)"
   ]
  },
  {
   "cell_type": "code",
   "execution_count": 8,
   "metadata": {},
   "outputs": [
    {
     "output_type": "execute_result",
     "data": {
      "text/plain": "[]"
     },
     "metadata": {},
     "execution_count": 8
    }
   ],
   "source": [
    "combos"
   ]
  },
  {
   "cell_type": "code",
   "execution_count": null,
   "metadata": {},
   "outputs": [],
   "source": []
  }
 ],
 "metadata": {
  "language_info": {
   "codemirror_mode": {
    "name": "ipython",
    "version": 3
   },
   "file_extension": ".py",
   "mimetype": "text/x-python",
   "name": "python",
   "nbconvert_exporter": "python",
   "pygments_lexer": "ipython3",
   "version": "3.8.2-final"
  },
  "orig_nbformat": 2,
  "kernelspec": {
   "name": "python38264bit087c00796cd34d3ab2062ec5dd503d96",
   "display_name": "Python 3.8.2 64-bit"
  }
 },
 "nbformat": 4,
 "nbformat_minor": 2
}