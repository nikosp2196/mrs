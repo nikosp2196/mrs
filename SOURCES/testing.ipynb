{
 "cells": [
  {
   "cell_type": "code",
   "execution_count": 1,
   "metadata": {},
   "outputs": [],
   "source": [
    "import pandas as pd\n",
    "import csv\n",
    "from loader import CreateMovieBaskets, ReadMovies\n",
    "from pair_finder import TriangularMatrixOfPairsCounters, HashCountersOfPairs\n",
    "import time"
   ]
  },
  {
   "cell_type": "code",
   "execution_count": 67,
   "metadata": {},
   "outputs": [],
   "source": [
    "def TriangularMatrixOfPairsCounters(movies_df, user_baskets):\n",
    "    n = len(movies_df)\n",
    "    tm_size = n * (n -1) / 2\n",
    "    triangular_matrix = [0] * tm_size\n",
    "\n",
    "    for i,b in enumerate(user_baskets):\n",
    "        combos = get_pairs(b)\n",
    "        print(\"User: \", i + 1, \"/ 100\")\n",
    "        for c in combos:\n",
    "            # TEST\n",
    "            x = movies_df[movies_df['movieId'] == c[0]].index[0] - 1\n",
    "            y = movies_df[movies_df['movieId'] == c[1]].index[0]\n",
    "            #print(\"Pair: \", c, \"Index: \", x, y)\n",
    "            #print(triangular_matrix[x][y])\n",
    "            triangular_matrix[x][y] += 1\n",
    "    \n",
    "    return triangular_matrix\n",
    "\n",
    "\n",
    "def get_tm_pos(pair,n):\n",
    "    if pair[0] < pair[1]:\n",
    "        i = pair[0]\n",
    "        j = pair[1]\n",
    "    else:\n",
    "        i = pair[1]\n",
    "        j = pair[0]\n",
    "    return int(i * (n - (i + 1) / 2) + j - i -1 )\n",
    "\n",
    "\n",
    "def get_pairs(basket):\n",
    "    pair_list = []\n",
    "\n",
    "    for x in range(1,len(basket)):\n",
    "        for y in range(x):\n",
    "            pair_list.append((basket[x], basket[y]))\n",
    "\n",
    "    return pair_list"
   ]
  },
  {
   "cell_type": "code",
   "execution_count": 16,
   "metadata": {},
   "outputs": [],
   "source": [
    "ub = [\n",
    "    [0,1,2],\n",
    "    [1,2,3],\n",
    "    [0,1,3],\n",
    "    [1,3,4]\n",
    "]"
   ]
  },
  {
   "cell_type": "code",
   "execution_count": 68,
   "metadata": {},
   "outputs": [
    {
     "output_type": "stream",
     "name": "stdout",
     "text": "(1, 0)\n0\n(2, 0)\n1\n(2, 1)\n4\n(2, 1)\n4\n(3, 1)\n5\n(3, 2)\n7\n(1, 0)\n0\n(3, 0)\n2\n(3, 1)\n5\n(3, 1)\n5\n(4, 1)\n6\n(4, 3)\n9\n"
    },
    {
     "output_type": "execute_result",
     "data": {
      "text/plain": "[2, 1, 1, 0, 2, 3, 1, 1, 0, 1]"
     },
     "metadata": {},
     "execution_count": 68
    }
   ],
   "source": [
    "tm = [0] * 10\n",
    "for i in ub:\n",
    "    tmp = get_pairs(i)\n",
    "    for pair in tmp:\n",
    "        \n",
    "        pos = get_tm_pos(pair, 5)\n",
    "        print(pair)\n",
    "        print(pos)\n",
    "        tm[pos] += 1\n",
    "\n",
    "\n",
    "tm"
   ]
  },
  {
   "cell_type": "code",
   "execution_count": null,
   "metadata": {},
   "outputs": [],
   "source": []
  }
 ],
 "metadata": {
  "language_info": {
   "codemirror_mode": {
    "name": "ipython",
    "version": 3
   },
   "file_extension": ".py",
   "mimetype": "text/x-python",
   "name": "python",
   "nbconvert_exporter": "python",
   "pygments_lexer": "ipython3",
   "version": "3.8.2-final"
  },
  "orig_nbformat": 2,
  "kernelspec": {
   "name": "python38264bit087c00796cd34d3ab2062ec5dd503d96",
   "display_name": "Python 3.8.2 64-bit"
  }
 },
 "nbformat": 4,
 "nbformat_minor": 2
}