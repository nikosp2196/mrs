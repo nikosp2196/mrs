{
 "cells": [
  {
   "cell_type": "code",
   "execution_count": 2,
   "metadata": {},
   "outputs": [],
   "source": [
    "import pandas as pd\n",
    "import csv\n",
    "from loader import CreateMovieBaskets, ReadMovies\n",
    "from pair_finder import *\n",
    "import time"
   ]
  },
  {
   "cell_type": "code",
   "execution_count": 3,
   "metadata": {},
   "outputs": [],
   "source": [
    "ratings_path = \"DATA\\\\ratings_100users.csv\"\n",
    "movies_path =  \"DATA\\\\movies.csv\"\n",
    "MinScore = 4.5 # CHANGE THIS TO USER INPUT\n",
    "\n",
    "UserBaskets,movies_list = CreateMovieBaskets(ratings_path,MinScore, limit=100)\n",
    "movies_df = ReadMovies(movies_path)\n",
    "movies_df = movies_df[movies_df['movieId'].isin(movies_list)].reset_index(drop=True)\n",
    "\n"
   ]
  },
  {
   "cell_type": "code",
   "execution_count": 15,
   "metadata": {},
   "outputs": [],
   "source": [
    "def calculate_frequencies(object_list, N):\n",
    "    vector_dict = {}\n",
    "\n",
    "    for b_i in range(len(object_list)):\n",
    "        for c in object_list[b_i]: # c -> combo\n",
    "            if c not in vector_dict.keys():\n",
    "                vector_dict[c] = {\"frequency\": 1, \"baskets\" : [b_i]}\n",
    "            else:\n",
    "                vector_dict[c]['frequency'] += 1\n",
    "                vector_dict[c]['baskets'].append(b_i)\n",
    "    for i in vector_dict.keys():\n",
    "        vector_dict[i]['frequency'] = vector_dict[i]['frequency'] / N\n",
    "    \n",
    "    return vector_dict\n",
    "\n",
    "\n",
    "def frequency_filter(min_frequency, input_dict):\n",
    "    \n",
    "    for i in list(input_dict):\n",
    "        if input_dict[i]['frequency'] < min_frequency:\n",
    "            del input_dict[i]\n",
    "    \n",
    "    return input_dict\n",
    "\n",
    "\n",
    "def get_combos(ub, L, k):\n",
    "    combo_list = []\n",
    "\n",
    "    for i_b, basket in enumerate(ub): # Iterate the baskets\n",
    "        print(\"k:\", k,\"User: \", i_b + 1, \"/ 100\")\n",
    "        combo_list.append([])\n",
    "        if len(basket) >= k: # Baskets with size less than k can't have k-combo\n",
    "\n",
    "            for i in basket: # Iterate the objects in the basket\n",
    "\n",
    "                if i in list(L[1]): # If the object not in L1, it isn't frequent\n",
    "                    \n",
    "                    for j in list(L[k-1]): # Iterate the L_k-1 dict which holds the frequenct k-1 combos\n",
    "                        previous_combo_elements = j.split(\",\")\n",
    "                        str_i = str(i)\n",
    "                        if i_b in L[k-1][j]['baskets'] and str_i not in previous_combo_elements:\n",
    "                            combo_list[-1].append(create_new_combo(str_i,previous_combo_elements))\n",
    "                        \n",
    "            combo_list[-1] = list(dict.fromkeys(combo_list[-1]))\n",
    "            \n",
    "    return combo_list\n",
    "                        \n",
    "\n",
    "def create_new_combo(new_object, old_combo):\n",
    "    #combo_objects = old_combo.split(\",\")\n",
    "    old_combo.append(new_object)\n",
    "    final_combo = \"\"\n",
    "    sorted_combo = sorted(old_combo, reverse=True)\n",
    "    for i in sorted_combo:\n",
    "        final_combo += i + \",\"\n",
    "\n",
    "    return final_combo[:-1]"
   ]
  },
  {
   "cell_type": "code",
   "execution_count": 16,
   "metadata": {},
   "outputs": [],
   "source": [
    "def apriori(itemBaskets, min_frequency, max_length):\n",
    "    L = {}\n",
    "    C1 = calculate_frequencies(itemBaskets ,len(itemBaskets))\n",
    "    L[1] = frequency_filter(min_frequency,C1)\n",
    "    pairs = []\n",
    "    for i in itemBaskets:\n",
    "        pairs.append(get_pairs(i))\n",
    "    C2 = calculate_frequencies(pairs, len(itemBaskets))\n",
    "    L[2] = frequency_filter(min_frequency, C2)\n",
    "    \n",
    "    for i in range(3,max_length + 1):\n",
    "        tmp_combos = get_combos(itemBaskets, L, i)\n",
    "        Ci = calculate_frequencies(tmp_combos, len(itemBaskets))\n",
    "        L[i] = frequency_filter(min_frequency, Ci)\n",
    "        if len(L[i].keys()) == 0:\n",
    "            break\n",
    "\n",
    "    return L    \n",
    "    \n",
    "\n"
   ]
  },
  {
   "cell_type": "code",
   "execution_count": 19,
   "metadata": {
    "tags": [
     "outputPrepend",
     "outputPrepend",
     "outputPrepend",
     "outputPrepend",
     "outputPrepend",
     "outputPrepend",
     "outputPrepend",
     "outputPrepend",
     "outputPrepend",
     "outputPrepend",
     "outputPrepend",
     "outputPrepend",
     "outputPrepend",
     "outputPrepend",
     "outputPrepend",
     "outputPrepend",
     "outputPrepend",
     "outputPrepend",
     "outputPrepend",
     "outputPrepend",
     "outputPrepend",
     "outputPrepend",
     "outputPrepend",
     "outputPrepend",
     "outputPrepend",
     "outputPrepend",
     "outputPrepend",
     "outputPrepend",
     "outputPrepend",
     "outputPrepend",
     "outputPrepend",
     "outputPrepend",
     "outputPrepend",
     "outputPrepend",
     "outputPrepend",
     "outputPrepend",
     "outputPrepend",
     "outputPrepend",
     "outputPrepend",
     "outputPrepend",
     "outputPrepend",
     "outputPrepend",
     "outputPrepend",
     "outputPrepend",
     "outputPrepend",
     "outputPrepend",
     "outputPrepend",
     "outputPrepend",
     "outputPrepend",
     "outputPrepend",
     "outputPrepend",
     "outputPrepend",
     "outputPrepend",
     "outputPrepend"
    ]
   },
   "outputs": [
    {
     "output_type": "stream",
     "name": "stdout",
     "text": "k: 3 User:  1 / 100\nk: 3 User:  2 / 100\nk: 3 User:  3 / 100\nk: 3 User:  4 / 100\nk: 3 User:  5 / 100\nk: 3 User:  6 / 100\nk: 3 User:  7 / 100\nk: 3 User:  8 / 100\nk: 3 User:  9 / 100\nk: 3 User:  10 / 100\nk: 3 User:  11 / 100\nk: 3 User:  12 / 100\nk: 3 User:  13 / 100\nk: 3 User:  14 / 100\nk: 3 User:  15 / 100\nk: 3 User:  16 / 100\nk: 3 User:  17 / 100\nk: 3 User:  18 / 100\nk: 3 User:  19 / 100\nk: 3 User:  20 / 100\nk: 3 User:  21 / 100\nk: 3 User:  22 / 100\nk: 3 User:  23 / 100\nk: 3 User:  24 / 100\nk: 3 User:  25 / 100\nk: 3 User:  26 / 100\nk: 3 User:  27 / 100\nk: 3 User:  28 / 100\nk: 3 User:  29 / 100\nk: 3 User:  30 / 100\nk: 3 User:  31 / 100\nk: 3 User:  32 / 100\nk: 3 User:  33 / 100\nk: 3 User:  34 / 100\nk: 3 User:  35 / 100\nk: 3 User:  36 / 100\nk: 3 User:  37 / 100\nk: 3 User:  38 / 100\nk: 3 User:  39 / 100\nk: 3 User:  40 / 100\nk: 3 User:  41 / 100\nk: 3 User:  42 / 100\nk: 3 User:  43 / 100\nk: 3 User:  44 / 100\nk: 3 User:  45 / 100\nk: 3 User:  46 / 100\nk: 3 User:  47 / 100\nk: 3 User:  48 / 100\nk: 3 User:  49 / 100\nk: 3 User:  50 / 100\nk: 3 User:  51 / 100\nk: 3 User:  52 / 100\nk: 3 User:  53 / 100\nk: 3 User:  54 / 100\nk: 3 User:  55 / 100\nk: 3 User:  56 / 100\nk: 3 User:  57 / 100\nk: 3 User:  58 / 100\nk: 3 User:  59 / 100\nk: 3 User:  60 / 100\nk: 3 User:  61 / 100\nk: 3 User:  62 / 100\nk: 3 User:  63 / 100\nk: 3 User:  64 / 100\nk: 3 User:  65 / 100\nk: 3 User:  66 / 100\nk: 3 User:  67 / 100\nk: 3 User:  68 / 100\nk: 3 User:  69 / 100\nk: 3 User:  70 / 100\nk: 3 User:  71 / 100\nk: 3 User:  72 / 100\nk: 3 User:  73 / 100\nk: 3 User:  74 / 100\nk: 3 User:  75 / 100\nk: 3 User:  76 / 100\nk: 3 User:  77 / 100\nk: 3 User:  78 / 100\nk: 3 User:  79 / 100\nk: 3 User:  80 / 100\nk: 3 User:  81 / 100\nk: 3 User:  82 / 100\nk: 3 User:  83 / 100\nk: 3 User:  84 / 100\nk: 3 User:  85 / 100\nk: 3 User:  86 / 100\nk: 3 User:  87 / 100\nk: 3 User:  88 / 100\nk: 3 User:  89 / 100\nk: 3 User:  90 / 100\nk: 3 User:  91 / 100\nk: 3 User:  92 / 100\nk: 3 User:  93 / 100\nk: 3 User:  94 / 100\nk: 3 User:  95 / 100\nk: 3 User:  96 / 100\nk: 3 User:  97 / 100\nk: 3 User:  98 / 100\nk: 3 User:  99 / 100\nk: 3 User:  100 / 100\nk: 4 User:  1 / 100\nk: 4 User:  2 / 100\nk: 4 User:  3 / 100\nk: 4 User:  4 / 100\nk: 4 User:  5 / 100\nk: 4 User:  6 / 100\nk: 4 User:  7 / 100\nk: 4 User:  8 / 100\nk: 4 User:  9 / 100\nk: 4 User:  10 / 100\nk: 4 User:  11 / 100\nk: 4 User:  12 / 100\nk: 4 User:  13 / 100\nk: 4 User:  14 / 100\nk: 4 User:  15 / 100\nk: 4 User:  16 / 100\nk: 4 User:  17 / 100\nk: 4 User:  18 / 100\nk: 4 User:  19 / 100\nk: 4 User:  20 / 100\nk: 4 User:  21 / 100\nk: 4 User:  22 / 100\nk: 4 User:  23 / 100\nk: 4 User:  24 / 100\nk: 4 User:  25 / 100\nk: 4 User:  26 / 100\nk: 4 User:  27 / 100\nk: 4 User:  28 / 100\nk: 4 User:  29 / 100\nk: 4 User:  30 / 100\nk: 4 User:  31 / 100\nk: 4 User:  32 / 100\nk: 4 User:  33 / 100\nk: 4 User:  34 / 100\nk: 4 User:  35 / 100\nk: 4 User:  36 / 100\nk: 4 User:  37 / 100\nk: 4 User:  38 / 100\nk: 4 User:  39 / 100\nk: 4 User:  40 / 100\nk: 4 User:  41 / 100\nk: 4 User:  42 / 100\nk: 4 User:  43 / 100\nk: 4 User:  44 / 100\nk: 4 User:  45 / 100\nk: 4 User:  46 / 100\nk: 4 User:  47 / 100\nk: 4 User:  48 / 100\nk: 4 User:  49 / 100\nk: 4 User:  50 / 100\nk: 4 User:  51 / 100\nk: 4 User:  52 / 100\nk: 4 User:  53 / 100\nk: 4 User:  54 / 100\nk: 4 User:  55 / 100\nk: 4 User:  56 / 100\nk: 4 User:  57 / 100\nk: 4 User:  58 / 100\nk: 4 User:  59 / 100\nk: 4 User:  60 / 100\nk: 4 User:  61 / 100\nk: 4 User:  62 / 100\nk: 4 User:  63 / 100\nk: 4 User:  64 / 100\nk: 4 User:  65 / 100\nk: 4 User:  66 / 100\nk: 4 User:  67 / 100\nk: 4 User:  68 / 100\nk: 4 User:  69 / 100\nk: 4 User:  70 / 100\nk: 4 User:  71 / 100\nk: 4 User:  72 / 100\nk: 4 User:  73 / 100\nk: 4 User:  74 / 100\nk: 4 User:  75 / 100\nk: 4 User:  76 / 100\nk: 4 User:  77 / 100\nk: 4 User:  78 / 100\nk: 4 User:  79 / 100\nk: 4 User:  80 / 100\nk: 4 User:  81 / 100\nk: 4 User:  82 / 100\nk: 4 User:  83 / 100\nk: 4 User:  84 / 100\nk: 4 User:  85 / 100\nk: 4User:  86 / 100\nk: 4 User:  87 / 100\nk: 4 User:  88 / 100\nk: 4 User:  89 / 100\nk: 4 User:  90 / 100\nk: 4 User:  91 / 100\nk: 4 User:  92 / 100\nk: 4 User:  93 / 100\nk: 4 User:  94 / 100\nk: 4 User:  95 / 100\nk: 4 User:  96 / 100\nk: 4 User:  97 / 100\nk: 4 User:  98 / 100\nk: 4 User:  99 / 100\nk: 4 User:  100 / 100\nk: 5 User:  1 / 100\nk: 5 User:  2 / 100\nk: 5 User:  3 / 100\nk: 5 User:  4 / 100\nk: 5 User:  5 / 100\nk: 5 User:  6 / 100\nk: 5 User:  7 / 100\nk: 5 User:  8 / 100\nk: 5 User:  9 / 100\nk: 5 User:  10 / 100\nk: 5 User:  11 / 100\nk: 5 User:  12 / 100\nk: 5 User:  13 / 100\nk: 5 User:  14 / 100\nk: 5 User:  15 / 100\nk: 5 User:  16 / 100\nk: 5 User:  17 / 100\nk: 5 User:  18 / 100\nk: 5 User:  19 / 100\nk: 5 User:  20 / 100\nk: 5 User:  21 / 100\nk: 5 User:  22 / 100\nk: 5 User:  23 / 100\nk: 5 User:  24 / 100\nk: 5 User:  25 / 100\nk: 5 User:  26 / 100\nk: 5 User:  27 / 100\nk: 5 User:  28 / 100\nk: 5 User:  29 / 100\nk: 5 User:  30 / 100\nk: 5 User:  31 / 100\nk: 5 User:  32 / 100\nk: 5 User:  33 / 100\nk: 5 User:  34 / 100\nk: 5 User:  35 / 100\nk: 5 User:  36 / 100\nk: 5 User:  37 / 100\nk: 5 User:  38 / 100\nk: 5 User:  39 / 100\nk: 5 User:  40 / 100\nk: 5 User:  41 / 100\nk: 5 User:  42 / 100\nk: 5 User:  43 / 100\nk: 5 User:  44 / 100\nk: 5 User:  45 / 100\nk: 5 User:  46 / 100\nk: 5 User:  47 / 100\nk: 5 User:  48 / 100\nk: 5 User:  49 / 100\nk: 5 User:  50 / 100\nk: 5 User:  51 / 100\nk: 5 User:  52 / 100\nk: 5 User:  53 / 100\nk: 5 User:  54 / 100\nk: 5 User:  55 / 100\nk: 5 User:  56 / 100\nk: 5 User:  57 / 100\nk: 5 User:  58 / 100\nk: 5 User:  59 / 100\nk: 5 User:  60 / 100\nk: 5 User:  61 / 100\nk: 5 User:  62 / 100\nk: 5 User:  63 / 100\nk: 5 User:  64 / 100\nk: 5 User:  65 / 100\nk: 5 User:  66 / 100\nk: 5 User:  67 / 100\nk: 5 User:  68 / 100\nk: 5 User:  69 / 100\nk: 5 User:  70 / 100\nk: 5 User:  71 / 100\nk: 5 User:  72 / 100\nk: 5 User:  73 / 100\nk: 5 User:  74 / 100\nk: 5 User:  75 / 100\nk: 5 User:  76 / 100\nk: 5 User:  77 / 100\nk: 5 User:  78 / 100\nk: 5 User:  79 / 100\nk: 5 User:  80 / 100\nk: 5 User:  81 / 100\nk: 5 User:  82 / 100\nk: 5 User:  83 / 100\nk: 5 User:  84 / 100\nk: 5 User:  85 / 100\nk: 5 User:  86 / 100\nk: 5 User:  87 / 100\nk: 5 User:  88 / 100\nk: 5 User:  89 / 100\nk: 5 User:  90 / 100\nk: 5 User:  91 / 100\nk: 5 User:  92 / 100\nk: 5 User:  93 / 100\nk: 5 User:  94 / 100\nk: 5 User:  95 / 100\nk: 5 User:  96 / 100\nk: 5 User:  97 / 100\nk: 5 User:  98 / 100\nk: 5 User:  99 / 100\nk: 5 User:  100 / 100\n"
    }
   ],
   "source": [
    "L = apriori(UserBaskets, 0.1, 5)"
   ]
  },
  {
   "cell_type": "code",
   "execution_count": 20,
   "metadata": {},
   "outputs": [
    {
     "output_type": "stream",
     "name": "stdout",
     "text": "260,50  :  {'frequency': 0.13, 'baskets': [0, 6, 16, 31, 38, 41, 44, 56, 62, 68, 71, 90, 95]}\n527,50  :  {'frequency': 0.1, 'baskets': [0, 7, 16, 17, 32, 37, 56, 57, 71, 95]}\n1196,260  :  {'frequency': 0.19, 'baskets': [0, 3, 14, 16, 20, 29, 38, 44, 50, 61, 62, 67, 68, 71, 74, 76, 78, 90, 94]}\n1198,260  :  {'frequency': 0.15, 'baskets': [0, 16, 24, 29, 31, 56, 61, 62, 67, 71, 74, 76, 90, 94, 95]}\n1198,1196  :  {'frequency': 0.11, 'baskets': [0, 16, 29, 61, 62, 67, 71, 74, 76, 90, 94]}\n1210,50  :  {'frequency': 0.11, 'baskets': [0, 16, 17, 32, 38, 41, 44, 62, 68, 71, 95]}\n1210,260  :  {'frequency': 0.18, 'baskets': [0, 14, 16, 20, 29, 38, 41, 43, 44, 61, 62, 67, 68, 71, 76, 78, 94, 95]}\n1210,1196  :  {'frequency': 0.15, 'baskets': [0, 14, 16, 20, 29, 38, 44, 61, 62, 67, 68, 71, 76, 78, 94]}\n1210,1198  :  {'frequency': 0.1, 'baskets': [0, 16, 29, 61, 62, 67, 71, 76, 94, 95]}\n2571,50  :  {'frequency': 0.12, 'baskets': [0, 16, 17, 32, 38, 41, 44, 56, 68, 71, 79, 90]}\n2571,260  :  {'frequency': 0.16, 'baskets': [0, 16, 24, 29, 38, 41, 44, 56, 61, 67, 68, 71, 76, 85, 90, 94]}\n2571,1196  :  {'frequency': 0.12, 'baskets': [0, 16, 29, 38, 44, 61, 67, 68, 71, 76, 90, 94]}\n2571,1198  :  {'frequency': 0.13, 'baskets': [0, 12, 16, 24, 29, 56, 61, 67, 71, 76, 77, 90, 94]}\n2571,1210  :  {'frequency': 0.16, 'baskets': [0, 16, 17, 29, 32, 38, 41, 44, 51, 61, 67, 68, 71, 76, 94, 96]}\n2959,2571  :  {'frequency': 0.1, 'baskets': [0, 16, 17, 44, 51, 61, 65, 66, 79, 90]}\n593,260  :  {'frequency': 0.13, 'baskets': [3, 6, 16, 31, 38, 41, 50, 56, 61, 68, 71, 90, 92]}\n356,110  :  {'frequency': 0.1, 'baskets': [5, 10, 16, 17, 32, 44, 61, 65, 81, 92]}\n356,318  :  {'frequency': 0.12, 'baskets': [5, 14, 16, 17, 21, 23, 28, 51, 65, 66, 82, 83]}\n593,50  :  {'frequency': 0.13, 'baskets': [6, 16, 17, 31, 32, 38, 41, 45, 56, 68, 71, 79, 90]}\n593,356  :  {'frequency': 0.12, 'baskets': [6, 10, 16, 17, 23, 32, 41, 55, 61, 83, 92, 97]}\n4993,260  :  {'frequency': 0.1, 'baskets': [6, 16, 24, 29, 44, 61, 67, 74, 76, 90]}\n5952,4993  :  {'frequency': 0.12, 'baskets': [6, 8, 16, 19, 24, 29, 60, 61, 63, 65, 76, 87]}\n318,50  :  {'frequency': 0.12, 'baskets': [7, 16, 17, 31, 37, 57, 60, 62, 68, 71, 79, 87]}\n527,318  :  {'frequency': 0.1, 'baskets': [7, 14, 16, 17, 37, 57, 63, 69, 71, 83]}\n2028,356  :  {'frequency': 0.1, 'baskets': [10, 16, 28, 32, 41, 44, 65, 66, 82, 92]}\n296,50  :  {'frequency': 0.12, 'baskets': [16, 31, 32, 38, 41, 44, 57, 62, 68, 71, 90, 95]}\n296,260  :  {'frequency': 0.11, 'baskets': [16, 31, 38, 41, 44, 61, 62, 68, 71, 90, 95]}\n318,296  :  {'frequency': 0.11, 'baskets': [16, 31, 39, 57, 62, 63, 65, 66, 68, 71, 98]}\n593,296  :  {'frequency': 0.11, 'baskets': [16, 31, 32, 36, 38, 41, 61, 63, 68, 71, 90]}\n593,527  :  {'frequency': 0.1, 'baskets': [16, 17, 32, 56, 58, 61, 63, 71, 83, 92]}\n858,296  :  {'frequency': 0.1, 'baskets': [16, 27, 41, 44, 61, 63, 71, 73, 75, 90]}\n1210,296  :  {'frequency': 0.1, 'baskets': [16, 32, 38, 41, 44, 61, 62, 68, 71, 95]}\n2571,296  :  {'frequency': 0.11, 'baskets': [16, 32, 38, 41, 44, 61, 65, 66, 68, 71, 90]}\n2571,318  :  {'frequency': 0.11, 'baskets': [16, 17, 29, 51, 65, 66, 68, 71, 77, 79, 85]}\n2571,593  :  {'frequency': 0.12, 'baskets': [16, 17, 32, 38, 41, 56, 61, 68, 71, 79, 90, 96]}\n2571,2028  :  {'frequency': 0.12, 'baskets': [16, 24, 32, 41, 44, 48, 56, 65, 66, 90, 94, 96]}\n4993,2571  :  {'frequency': 0.11, 'baskets': [16, 17, 24, 29, 44, 61, 65, 67, 76, 90, 96]}\n7153,2571  :  {'frequency': 0.1, 'baskets': [16, 17, 24, 29, 51, 61, 65, 67, 76, 90]}\n7153,4993  :  {'frequency': 0.12, 'baskets': [16, 17, 24, 29, 60, 61, 63, 65, 67, 76, 87, 90]}\n79132,58559  :  {'frequency': 0.1, 'baskets': [16, 24, 29, 51, 61, 64, 67, 79, 82, 87]}\n"
    },
    {
     "output_type": "execute_result",
     "data": {
      "text/plain": "40"
     },
     "metadata": {},
     "execution_count": 20
    }
   ],
   "source": [
    "count = 0\n",
    "for i in L[2].keys():\n",
    "    print(i, \" : \", L[2][i])\n",
    "    count += 1\n",
    "count"
   ]
  },
  {
   "cell_type": "code",
   "execution_count": 4,
   "metadata": {},
   "outputs": [
    {
     "output_type": "stream",
     "name": "stdout",
     "text": "User:  1 / 100\nUser:  2 / 100\nUser:  3 / 100\nUser:  4 / 100\nUser:  5 / 100\nUser:  6 / 100\nUser:  7 / 100\nUser:  8 / 100\nUser:  9 / 100\nUser:  10 / 100\nUser:  11 / 100\nUser:  12 / 100\nUser:  13 / 100\nUser:  14 / 100\nUser:  15 / 100\nUser:  16 / 100\nUser:  17 / 100\nUser:  18 / 100\nUser:  19 / 100\nUser:  20 / 100\nUser:  21 / 100\nUser:  22 / 100\nUser:  23 / 100\nUser:  24 / 100\nUser:  25 / 100\nUser:  26 / 100\nUser:  27 / 100\nUser:  28 / 100\nUser:  29 / 100\nUser:  30 / 100\nUser:  31 / 100\nUser:  32 / 100\nUser:  33 / 100\nUser:  34 / 100\nUser:  35 / 100\nUser:  36 / 100\nUser:  37 / 100\nUser:  38 / 100\nUser:  39 / 100\nUser:  40 / 100\nUser:  41 / 100\nUser:  42 / 100\nUser:  43 / 100\nUser:  44 / 100\nUser:  45 / 100\nUser:  46 / 100\nUser:  47 / 100\nUser:  48 / 100\nUser:  49 / 100\nUser:  50 / 100\nUser:  51 / 100\nUser:  52 / 100\nUser:  53 / 100\nUser:  54 / 100\nUser:  55 / 100\nUser:  56 / 100\nUser:  57 / 100\nUser:  58 / 100\nUser:  59 / 100\nUser:  60 / 100\nUser:  61 / 100\nUser:  62 / 100\nUser:  63 / 100\nUser:  64 / 100\nUser:  65 / 100\nUser:  66 / 100\nUser:  67 / 100\nUser:  68 / 100\nUser:  69 / 100\nUser:  70 / 100\nUser:  71 / 100\nUser:  72 / 100\nUser:  73 / 100\nUser:  74 / 100\nUser:  75 / 100\nUser:  76 / 100\nUser:  77 / 100\nUser:  78 / 100\nUser:  79 / 100\nUser:  80 / 100\nUser:  81 / 100\nUser:  82 / 100\nUser:  83 / 100\nUser:  84 / 100\nUser:  85 / 100\nUser:  86 / 100\nUser:  87 / 100\nUser:  88 / 100\nUser:  89 / 100\nUser:  90 / 100\nUser:  91 / 100\nUser:  92 / 100\nUser:  93 / 100\nUser:  94 / 100\nUser:  95 / 100\nUser:  96 / 100\nUser:  97 / 100\nUser:  98 / 100\nUser:  99 / 100\nUser:  100 / 100\n"
    }
   ],
   "source": [
    "hc = HashCountersOfPairs(movies_df, UserBaskets)"
   ]
  },
  {
   "cell_type": "code",
   "execution_count": 14,
   "metadata": {},
   "outputs": [
    {
     "output_type": "stream",
     "name": "stdout",
     "text": "260,50  :  13\n527,50  :  10\n1196,260  :  19\n1198,260  :  15\n1198,1196  :  11\n1210,50  :  11\n1210,260  :  18\n1210,1196  :  15\n1210,1198  :  10\n2571,50  :  12\n2571,260  :  16\n2571,1196  :  12\n2571,1198  :  13\n2571,1210  :  16\n2959,2571  :  10\n593,260  :  13\n356,110  :  10\n356,318  :  12\n593,50  :  13\n593,356  :  12\n4993,260  :  10\n5952,4993  :  12\n318,50  :  12\n527,318  :  10\n2028,356  :  10\n296,50  :  12\n296,260  :  11\n318,296  :  11\n593,296  :  11\n593,527  :  10\n858,296  :  10\n1210,296  :  10\n2571,296  :  11\n2571,318  :  11\n2571,593  :  12\n2571,2028  :  12\n4993,2571  :  11\n7153,2571  :  10\n7153,4993  :  12\n79132,58559  :  10\n"
    },
    {
     "output_type": "execute_result",
     "data": {
      "text/plain": "40"
     },
     "metadata": {},
     "execution_count": 14
    }
   ],
   "source": [
    "count = 0\n",
    "for i in hc.keys():\n",
    "    if hc[i] >= 10:\n",
    "        print(i, \" : \", hc[i])\n",
    "        count += 1\n",
    "\n",
    "count"
   ]
  },
  {
   "cell_type": "code",
   "execution_count": 22,
   "metadata": {},
   "outputs": [
    {
     "output_type": "stream",
     "name": "stdout",
     "text": "User:  1 / 100\nUser:  2 / 100\nUser:  3 / 100\nUser:  4 / 100\nUser:  5 / 100\nUser:  6 / 100\nUser:  7 / 100\nUser:  8 / 100\nUser:  9 / 100\nUser:  10 / 100\nUser:  11 / 100\nUser:  12 / 100\nUser:  13 / 100\nUser:  14 / 100\nUser:  15 / 100\nUser:  16 / 100\nUser:  17 / 100\nUser:  18 / 100\nUser:  19 / 100\nUser:  20 / 100\nUser:  21 / 100\nUser:  22 / 100\nUser:  23 / 100\nUser:  24 / 100\nUser:  25 / 100\nUser:  26 / 100\nUser:  27 / 100\nUser:  28 / 100\nUser:  29 / 100\nUser:  30 / 100\nUser:  31 / 100\nUser:  32 / 100\nUser:  33 / 100\nUser:  34 / 100\nUser:  35 / 100\nUser:  36 / 100\nUser:  37 / 100\nUser:  38 / 100\nUser:  39 / 100\nUser:  40 / 100\nUser:  41 / 100\nUser:  42 / 100\nUser:  43 / 100\nUser:  44 / 100\nUser:  45 / 100\nUser:  46 / 100\nUser:  47 / 100\nUser:  48 / 100\nUser:  49 / 100\nUser:  50 / 100\nUser:  51 / 100\nUser:  52 / 100\nUser:  53 / 100\nUser:  54 / 100\nUser:  55 / 100\nUser:  56 / 100\nUser:  57 / 100\nUser:  58 / 100\nUser:  59 / 100\nUser:  60 / 100\nUser:  61 / 100\nUser:  62 / 100\nUser:  63 / 100\nUser:  64 / 100\nUser:  65 / 100\nUser:  66 / 100\nUser:  67 / 100\nUser:  68 / 100\nUser:  69 / 100\nUser:  70 / 100\nUser:  71 / 100\nUser:  72 / 100\nUser:  73 / 100\nUser:  74 / 100\nUser:  75 / 100\nUser:  76 / 100\nUser:  77 / 100\nUser:  78 / 100\nUser:  79 / 100\nUser:  80 / 100\nUser:  81 / 100\nUser:  82 / 100\nUser:  83 / 100\nUser:  84 / 100\nUser:  85 / 100\nUser:  86 / 100\nUser:  87 / 100\nUser:  88 / 100\nUser:  89 / 100\nUser:  90 / 100\nUser:  91 / 100\nUser:  92 / 100\nUser:  93 / 100\nUser:  94 / 100\nUser:  95 / 100\nUser:  96 / 100\nUser:  97 / 100\nUser:  98 / 100\nUser:  99 / 100\nUser:  100 / 100\n"
    }
   ],
   "source": [
    "tcl, tm = TriangularMatrixOfPairsCounters(movies_df, UserBaskets)"
   ]
  },
  {
   "cell_type": "code",
   "execution_count": 27,
   "metadata": {},
   "outputs": [
    {
     "output_type": "stream",
     "name": "stdout",
     "text": "91\n"
    },
    {
     "output_type": "execute_result",
     "data": {
      "text/plain": "26"
     },
     "metadata": {},
     "execution_count": 27
    }
   ],
   "source": [
    "count = 0\n",
    "\n",
    "for i, f in enumerate(tcl):\n",
    "    if f >= 10:\n",
    "        x,y = tm[i]\n",
    "        count += 1\n",
    "        print(movies_df.iloc[x][\"movieId\"], movies_df.iloc[x][\"movieId\"])\n",
    "        \n",
    "        break"
   ]
  }
 ],
 "metadata": {
  "language_info": {
   "codemirror_mode": {
    "name": "ipython",
    "version": 3
   },
   "file_extension": ".py",
   "mimetype": "text/x-python",
   "name": "python",
   "nbconvert_exporter": "python",
   "pygments_lexer": "ipython3",
   "version": "3.8.2-final"
  },
  "orig_nbformat": 2,
  "kernelspec": {
   "name": "python38264bit087c00796cd34d3ab2062ec5dd503d96",
   "display_name": "Python 3.8.2 64-bit"
  }
 },
 "nbformat": 4,
 "nbformat_minor": 2
}