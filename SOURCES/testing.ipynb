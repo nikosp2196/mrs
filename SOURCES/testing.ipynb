{
 "cells": [
  {
   "cell_type": "code",
   "execution_count": 1,
   "metadata": {},
   "outputs": [],
   "source": [
    "import pandas as pd\n",
    "import csv\n",
    "from loader import CreateMovieBaskets, ReadMovies\n",
    "from pair_finder import *\n",
    "import time"
   ]
  },
  {
   "cell_type": "code",
   "execution_count": 2,
   "metadata": {},
   "outputs": [],
   "source": [
    "ratings_path = \"DATA\\\\ratings_100users.csv\"\n",
    "movies_path =  \"DATA\\\\movies.csv\"\n",
    "MinScore = 4.5 # CHANGE THIS TO USER INPUT\n",
    "\n",
    "UserBaskets,movies_list = CreateMovieBaskets(ratings_path,MinScore, limit=20)\n",
    "movies_df = ReadMovies(movies_path)\n",
    "movies_df = movies_df[movies_df['movieId'].isin(movies_list)].reset_index(drop=True)\n",
    "\n"
   ]
  },
  {
   "cell_type": "code",
   "execution_count": 3,
   "metadata": {},
   "outputs": [
    {
     "output_type": "stream",
     "name": "stdout",
     "text": "['1,0', '2,0', '2,1']\n['2,1', '3,1', '3,2']\n['1,0', '3,0', '3,1']\n['3,1', '4,1', '4,3']\n"
    }
   ],
   "source": [
    "ub = [\n",
    "    [0,1,2],\n",
    "    [1,2,3],\n",
    "    [0,1,3],\n",
    "    [1,3,4]\n",
    "]\n",
    "for i in ub:\n",
    "    print(get_pairs(i))"
   ]
  },
  {
   "cell_type": "code",
   "execution_count": 4,
   "metadata": {},
   "outputs": [],
   "source": [
    "def apriori(movies_df, itemBaskets, min_frequency, min_length):\n",
    "    C1 = calculate_frequencies(itemBaskets)\n",
    "    L1 = frequency_filter(min_frequency, C1)\n",
    "    \n",
    "    \n",
    "\n"
   ]
  },
  {
   "cell_type": "code",
   "execution_count": 4,
   "metadata": {},
   "outputs": [],
   "source": [
    "def calculate_frequencies(object_list, N):\n",
    "    vector_dict = {}\n",
    "\n",
    "    for b_i in range(len(object_list)):\n",
    "        for c in object_list[b_i]: # c -> combo\n",
    "            if c not in vector_dict.keys():\n",
    "                vector_dict[c] = {\"frequency\": 1, \"baskets\" : [b_i]}\n",
    "            else:\n",
    "                vector_dict[c]['frequency'] += 1\n",
    "                vector_dict[c]['baskets'].append(b_i)\n",
    "    for i in vector_dict.keys():\n",
    "        vector_dict[i]['frequency'] = vector_dict[i]['frequency'] / N\n",
    "    \n",
    "    return vector_dict\n",
    "    \n",
    "def frequency_filter(min_frequency, input_dict):\n",
    "    \n",
    "    for i in list(input_dict):\n",
    "        if input_dict[i]['frequency'] < min_frequency:\n",
    "            del input_dict[i]\n",
    "    \n",
    "    return input_dict"
   ]
  },
  {
   "cell_type": "code",
   "execution_count": 64,
   "metadata": {},
   "outputs": [
    {
     "output_type": "stream",
     "name": "stdout",
     "text": "{0: {'frequency': 0.5, 'baskets': [0, 2]}, 1: {'frequency': 1.0, 'baskets': [0, 1, 2, 3]}, 2: {'frequency': 0.5, 'baskets': [0, 1]}, 3: {'frequency': 0.75, 'baskets': [1, 2, 3]}, 4: {'frequency': 0.25, 'baskets': [3]}}\n"
    },
    {
     "output_type": "execute_result",
     "data": {
      "text/plain": "{0: {'frequency': 0.5, 'baskets': [0, 2]},\n 1: {'frequency': 1.0, 'baskets': [0, 1, 2, 3]},\n 2: {'frequency': 0.5, 'baskets': [0, 1]},\n 3: {'frequency': 0.75, 'baskets': [1, 2, 3]}}"
     },
     "metadata": {},
     "execution_count": 64
    }
   ],
   "source": [
    "fd = calculate_frequencies(ub, len(ub))\n",
    "print(fd)\n",
    "frequency_filter(0.5, fd)"
   ]
  },
  {
   "cell_type": "code",
   "execution_count": 26,
   "metadata": {},
   "outputs": [
    {
     "output_type": "execute_result",
     "data": {
      "text/plain": "[0, 1, 2]"
     },
     "metadata": {},
     "execution_count": 26
    }
   ],
   "source": [
    "tmp_list  = [1,2,5,7,9,10]\n",
    "\n",
    "while len(tmp) != 1:\n",
    "    for i in range(1,len(tmp)):\n",
    "        for j in range(i):\n",
    "            print()"
   ]
  },
  {
   "cell_type": "code",
   "execution_count": 39,
   "metadata": {},
   "outputs": [
    {
     "output_type": "execute_result",
     "data": {
      "text/plain": "[['1', '2', '3'], ['0', '2', '3']]"
     },
     "metadata": {},
     "execution_count": 39
    }
   ],
   "source": [
    "tmp = [[1,2,3], [1,2,3], [0,2,3]]\n",
    "'''for i in range(len(tmp)):\n",
    "    tmp[i] = [f'{j}'for j in tmp[i]]\n",
    "tmp1 = []\n",
    "tmp1 = [tmp[i] for i in range(len(tmp)) if i == 0 or tmp[i] != tmp[i-1]] # REMOVES DUPLICATES FROM LIST OF LISTS\n",
    "tmp1'''"
   ]
  },
  {
   "cell_type": "code",
   "execution_count": 40,
   "metadata": {},
   "outputs": [],
   "source": [
    "tmp = [[1,2,3], [1,2,3], [0,2,3]]\n",
    "pairs = []\n",
    "for i in tmp:\n",
    "    pairs.append(get_pairs(i))"
   ]
  },
  {
   "cell_type": "code",
   "execution_count": 50,
   "metadata": {},
   "outputs": [
    {
     "output_type": "execute_result",
     "data": {
      "text/plain": "[(2, 1), (3, 1), (3, 2), (2, 0), (3, 0)]"
     },
     "metadata": {},
     "execution_count": 50
    }
   ],
   "source": [
    "unique_pairs=[]\n",
    "for i in pairs:\n",
    "    for j in i:\n",
    "        if j not in unique_pairs:\n",
    "            unique_pairs.append(j)\n",
    "unique_pairs"
   ]
  },
  {
   "cell_type": "code",
   "execution_count": 51,
   "metadata": {},
   "outputs": [
    {
     "output_type": "execute_result",
     "data": {
      "text/plain": "['2,1', '3,1', '3,2', '2,0', '3,0']"
     },
     "metadata": {},
     "execution_count": 51
    }
   ],
   "source": [
    "unique_pairs = [ f\"{i[0]},{i[-1]}\" for i in unique_pairs]\n",
    "unique_pairs"
   ]
  },
  {
   "cell_type": "code",
   "execution_count": 54,
   "metadata": {},
   "outputs": [
    {
     "output_type": "stream",
     "name": "stdout",
     "text": "1 3,2\nBADINGA\n1 2,0\nBADINGA\n1 3,0\nBADINGA\n2 3,1\nBADINGA\n2 3,0\nBADINGA\n3 2,1\nBADINGA\n3 2,0\nBADINGA\n"
    }
   ],
   "source": [
    "def get_combos(ub, L, k):\n",
    "    combo_list = []\n",
    "    for basket in ub:\n",
    "        if len(basket) >= k:\n",
    "            for i in basket:\n",
    "                if i in list(L[1]):\n",
    "                    for j in list(L[k-1]):\n",
    "                        if i not in j  and j in basket:\n",
    "                        "
   ]
  },
  {
   "cell_type": "code",
   "execution_count": 10,
   "metadata": {},
   "outputs": [
    {
     "output_type": "execute_result",
     "data": {
      "text/plain": "{1: {0: {'frequency': 0.5, 'baskets': [0, 2]},\n  1: {'frequency': 1.0, 'baskets': [0, 1, 2, 3]},\n  2: {'frequency': 0.5, 'baskets': [0, 1]},\n  3: {'frequency': 0.75, 'baskets': [1, 2, 3]}},\n 2: {'1,0': {'frequency': 0.5, 'baskets': [0, 2]},\n  '2,1': {'frequency': 0.5, 'baskets': [0, 1]},\n  '3,1': {'frequency': 0.75, 'baskets': [1, 2, 3]}}}"
     },
     "metadata": {},
     "execution_count": 10
    }
   ],
   "source": [
    "L = {}\n",
    "C1 = calculate_frequencies(ub ,len(ub))\n",
    "L[1] = frequency_filter(0.5,C1)\n",
    "pairs = []\n",
    "for i in ub:\n",
    "    pairs.append(get_pairs(i))\n",
    "C2 = calculate_frequencies(pairs, len(ub))\n",
    "L[2] = frequency_filter(0.5, C2)\n",
    "L"
   ]
  }
 ],
 "metadata": {
  "language_info": {
   "codemirror_mode": {
    "name": "ipython",
    "version": 3
   },
   "file_extension": ".py",
   "mimetype": "text/x-python",
   "name": "python",
   "nbconvert_exporter": "python",
   "pygments_lexer": "ipython3",
   "version": "3.8.2-final"
  },
  "orig_nbformat": 2,
  "kernelspec": {
   "name": "python38264bit087c00796cd34d3ab2062ec5dd503d96",
   "display_name": "Python 3.8.2 64-bit"
  }
 },
 "nbformat": 4,
 "nbformat_minor": 2
}