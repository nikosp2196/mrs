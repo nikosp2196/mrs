{
 "cells": [
  {
   "cell_type": "code",
   "execution_count": 1,
   "metadata": {},
   "outputs": [],
   "source": [
    "import pandas as pd\n",
    "import csv\n",
    "from loader import *\n",
    "from pair_finder import *\n",
    "import time\n",
    "from random import seed\n",
    "import keyboard\n",
    "from random import seed\n",
    "from random import randint"
   ]
  },
  {
   "cell_type": "code",
   "execution_count": 2,
   "metadata": {},
   "outputs": [],
   "source": [
    "ratings_path = \"DATA\\\\ratings_100users_shuffled.csv\"\n",
    "MinScore = 4.5\n",
    "ratings_stream = createRatingsStream(ratings_path, MinScore)\n",
    "#userBaskets, movie_list = CreateMovieBaskets(ratings_path, 0.4, 100)\n",
    "#combos = myApriori(userBaskets, 0.3, 5)"
   ]
  },
  {
   "cell_type": "code",
   "execution_count": 3,
   "metadata": {},
   "outputs": [],
   "source": [
    "#freq = myApriori(userBaskets, MinScore, 5)"
   ]
  },
  {
   "cell_type": "code",
   "execution_count": 4,
   "metadata": {},
   "outputs": [],
   "source": [
    "def sampledApriori(sample_size, ratings_stream, min_frequency, max_length):\n",
    "    SetOfUsers = [] # User so far\n",
    "    sampleOfBaskets = {} # Key: userId, Value: movie_basket\n",
    "    sample_map = [] # Mapping between sample index and userId\n",
    "    for i in range(len(ratings_stream)):\n",
    "\n",
    "        if keyboard.is_pressed('y') or keyboard.is_pressed('Y'):\n",
    "            combos_1 = list(myApriori(sampleOfBaskets.values, min_frequency, max_length).keys())\n",
    "            return combos_1\n",
    "        else:\n",
    "            current_assessment = ratings_stream.iloc[i]\n",
    "            current_user = int(current_assessment['userId'])\n",
    "            current_movie = int(current_assessment['movieId'])\n",
    "\n",
    "            if current_user not in SetOfUsers:\n",
    "                SetOfUsers.append(current_user)\n",
    "                sampleOfBaskets = reservoir_sampling(len(SetOfUsers), sample_size, sampleOfBaskets, sample_map, current_user)\n",
    "\n",
    "            if current_user in sampleOfBaskets.keys():\n",
    "                sampleOfBaskets[current_user].append(current_movie)\n",
    "    \n",
    "    # do first apriori here\n",
    "    #return sampleOfBaskets.values()\n",
    "    combos_dict_1 = myApriori(list(sampleOfBaskets.values()), min_frequency, max_length)\n",
    "    combos_1 = []\n",
    "    for i in combos_dict_1.keys():\n",
    "        for j in combos_dict_1[i].keys():\n",
    "            combos_1.append(j)\n",
    "\n",
    "\n",
    "    SetOfUsers = []\n",
    "    sampleOfBaskets = {}\n",
    "    sample_map = [] \n",
    "    # Second run\n",
    "    for i in range(len(ratings_stream)):\n",
    "        current_assessment = ratings_stream.iloc[i]\n",
    "        current_user = int(current_assessment['userId'])\n",
    "        current_movie = int(current_assessment['movieId'])\n",
    "\n",
    "        if current_user not in SetOfUsers:\n",
    "            SetOfUsers.append(current_user)\n",
    "            sampleOfBaskets = reservoir_sampling(len(SetOfUsers), sample_size, sampleOfBaskets, sample_map, current_user)\n",
    "\n",
    "        if current_user in sampleOfBaskets.keys():\n",
    "            sampleOfBaskets[current_user].append(current_movie)\n",
    "    combos_dict_2 = myApriori(list(sampleOfBaskets.values()), min_frequency, max_length)\n",
    "    combos_2 = []\n",
    "    for i in combos_dict_2.keys():\n",
    "        for j in combos_dict_2[i].keys():\n",
    "            combos_2.append(j)\n",
    "\n",
    "    #return combos_dict_1, combos_dict_2\n",
    "    return [c1 for c1 in combos_1 if c1 in combos_2]\n",
    "\n",
    "def reservoir_sampling(n_distinct_users, sample_size, sample_of_baskets, sample_map, current_user):\n",
    "    seed()\n",
    "    if n_distinct_users <= sample_size:\n",
    "        sample_of_baskets[current_user] = []\n",
    "        sample_map.append(current_user)\n",
    "    else:\n",
    "        tmp = randint(0, n_distinct_users)\n",
    "\n",
    "        if tmp < sample_size:\n",
    "            old_user = sample_map[tmp]\n",
    "            sample_map[tmp] = current_user\n",
    "            del sample_of_baskets[old_user]\n",
    "            sample_of_baskets[current_user] = []\n",
    "            \n",
    "\n",
    "    return sample_of_baskets\n",
    "    "
   ]
  },
  {
   "cell_type": "code",
   "execution_count": 5,
   "metadata": {
    "tags": [
     "outputPrepend",
     "outputPrepend",
     "outputPrepend",
     "outputPrepend",
     "outputPrepend",
     "outputPrepend",
     "outputPrepend",
     "outputPrepend",
     "outputPrepend",
     "outputPrepend",
     "outputPrepend",
     "outputPrepend",
     "outputPrepend",
     "outputPrepend",
     "outputPrepend",
     "outputPrepend",
     "outputPrepend",
     "outputPrepend",
     "outputPrepend",
     "outputPrepend",
     "outputPrepend",
     "outputPrepend",
     "outputPrepend",
     "outputPrepend",
     "outputPrepend",
     "outputPrepend",
     "outputPrepend",
     "outputPrepend",
     "outputPrepend",
     "outputPrepend",
     "outputPrepend",
     "outputPrepend"
    ]
   },
   "outputs": [
    {
     "output_type": "stream",
     "name": "stdout",
     "text": "k: 3 User:  1 / 50\nk: 3 User:  2 / 50\nk: 3 User:  3 / 50\nk: 3 User:  4 / 50\nk: 3 User:  5 / 50\nk: 3 User:  6 / 50\nk: 3 User:  7 / 50\nk: 3 User:  8 / 50\nk: 3 User:  9 / 50\nk: 3 User:  10 / 50\nk: 3 User:  11 / 50\nk: 3 User:  12 / 50\nk: 3 User:  13 / 50\nk: 3 User:  14 / 50\nk: 3 User:  15 / 50\nk: 3 User:  16 / 50\nk: 3 User:  17 / 50\nk: 3 User:  18 / 50\nk: 3 User:  19 / 50\nk: 3 User:  20 / 50\nk: 3 User:  21 / 50\nk: 3 User:  22 / 50\nk: 3 User:  23 / 50\nk: 3 User:  24 / 50\nk: 3 User:  25 / 50\nk: 3 User:  26 / 50\nk: 3 User:  27 / 50\nk: 3 User:  28 / 50\nk: 3 User:  29 / 50\nk: 3 User:  30 / 50\nk: 3 User:  31 / 50\nk: 3 User:  32 / 50\nk: 3 User:  33 / 50\nk: 3 User:  34 / 50\nk: 3 User:  35 / 50\nk: 3 User:  36 / 50\nk: 3 User:  37 / 50\nk: 3 User:  38 / 50\nk: 3 User:  39 / 50\nk: 3 User:  40 / 50\nk: 3 User:  41 / 50\nk: 3 User:  42 / 50\nk: 3 User:  43 / 50\nk: 3 User:  44 / 50\nk: 3 User:  45 / 50\nk: 3 User:  46 / 50\nk: 3 User:  47 / 50\nk: 3 User:  48 / 50\nk: 3 User:  49 / 50\nk: 3 User:  50 / 50\nk: 3 User:  1 / 50\nk: 3 User:  2 / 50\nk: 3 User:  3 / 50\nk: 3 User:  4 / 50\nk: 3 User:  5 / 50\nk: 3 User:  6 / 50\nk: 3 User:  7 / 50\nk: 3 User:  8 / 50\nk: 3 User:  9 / 50\nk: 3 User:  10 / 50\nk: 3 User:  11 / 50\nk: 3 User:  12 / 50\nk: 3 User:  13 / 50\nk: 3 User:  14 / 50\nk: 3 User:  15 / 50\nk: 3 User:  16 / 50\nk: 3 User:  17 / 50\nk: 3 User:  18 / 50\nk: 3 User:  19 / 50\nk: 3 User:  20 / 50\nk: 3 User:  21 / 50\nk: 3 User:  22 / 50\nk: 3 User:  23 / 50\nk: 3 User:  24 / 50\nk: 3 User:  25 / 50\nk: 3 User:  26 / 50\nk: 3 User:  27 / 50\nk: 3 User:  28 / 50\nk: 3 User:  29 / 50\nk: 3 User:  30 / 50\nk: 3 User:  31 / 50\nk: 3 User:  32 / 50\nk: 3 User:  33 / 50\nk: 3 User:  34 / 50\nk: 3 User:  35 / 50\nk: 3 User:  36 / 50\nk: 3 User:  37 / 50\nk: 3 User:  38 / 50\nk: 3 User:  39 / 50\nk: 3 User:  40 / 50\nk: 3 User:  41 / 50\nk: 3 User:  42 / 50\nk: 3 User:  43 / 50\nk: 3 User:  44 / 50\nk: 3 User:  45 / 50\nk: 3 User:  46 / 50\nk: 3 User:  47 / 50\nk: 3 User:  48 / 50\nk: 3 User:  49 / 50\nk: 3 User:  50 / 50\n"
    }
   ],
   "source": [
    "combos = sampledApriori(50, ratings_stream, 0.1, 5)"
   ]
  },
  {
   "cell_type": "code",
   "execution_count": 6,
   "metadata": {},
   "outputs": [
    {
     "output_type": "execute_result",
     "data": {
      "text/plain": "'5,4,3,2,1'"
     },
     "metadata": {},
     "execution_count": 6
    }
   ],
   "source": [
    "old = ['1','2','4','5']\n",
    "new = '3'\n",
    "create_new_combo(new, old)"
   ]
  },
  {
   "cell_type": "code",
   "execution_count": 10,
   "metadata": {},
   "outputs": [
    {
     "output_type": "stream",
     "name": "stdout",
     "text": "527,318\n858,527\n858,296\n1221,858\n318,296\n527,296\n858,593\n5952,4993\n7153,318\n7153,4993\n7153,5952\n318,110\n356,318\n589,260\n1196,260\n1210,260\n1210,1196\n2028,858\n110,50\n260,50\n296,50\n1210,50\n2571,50\n2571,260\n2571,1196\n2571,1210\n2858,260\n593,260\n593,50\n1198,260\n1210,1198\n2571,1198\n527,50\n"
    }
   ],
   "source": [
    "for i in combos:\n",
    "    if len(i.split(',')) > 1:\n",
    "        print(i)"
   ]
  }
 ],
 "metadata": {
  "language_info": {
   "codemirror_mode": {
    "name": "ipython",
    "version": 3
   },
   "file_extension": ".py",
   "mimetype": "text/x-python",
   "name": "python",
   "nbconvert_exporter": "python",
   "pygments_lexer": "ipython3",
   "version": "3.8.2-final"
  },
  "orig_nbformat": 2,
  "kernelspec": {
   "name": "python38264bit087c00796cd34d3ab2062ec5dd503d96",
   "display_name": "Python 3.8.2 64-bit"
  }
 },
 "nbformat": 4,
 "nbformat_minor": 2
}