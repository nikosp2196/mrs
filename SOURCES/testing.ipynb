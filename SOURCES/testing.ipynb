{
 "cells": [
  {
   "cell_type": "code",
   "execution_count": 1,
   "metadata": {},
   "outputs": [],
   "source": [
    "import pandas as pd\n",
    "import csv\n",
    "from loader import CreateMovieBaskets, ReadMovies\n",
    "from pair_finder import *\n",
    "import time"
   ]
  },
  {
   "cell_type": "code",
   "execution_count": 2,
   "metadata": {},
   "outputs": [],
   "source": [
    "ratings_path = \"DATA\\\\ratings_100users.csv\"\n",
    "movies_path =  \"DATA\\\\movies.csv\"\n",
    "MinScore = 4.5 # CHANGE THIS TO USER INPUT\n",
    "\n",
    "UserBaskets,movies_list = CreateMovieBaskets(ratings_path,MinScore, limit=20)\n",
    "movies_df = ReadMovies(movies_path)\n",
    "movies_df = movies_df[movies_df['movieId'].isin(movies_list)].reset_index(drop=True)\n",
    "\n"
   ]
  },
  {
   "cell_type": "code",
   "execution_count": 3,
   "metadata": {},
   "outputs": [
    {
     "output_type": "stream",
     "name": "stdout",
     "text": "[(1, 0), (2, 0), (2, 1)]\n[(2, 1), (3, 1), (3, 2)]\n[(1, 0), (3, 0), (3, 1)]\n[(3, 1), (4, 1), (4, 3)]\n"
    }
   ],
   "source": [
    "ub = [\n",
    "    [0,1,2],\n",
    "    [1,2,3],\n",
    "    [0,1,3],\n",
    "    [1,3,4]\n",
    "]\n",
    "for i in ub:\n",
    "    print(get_pairs(i))"
   ]
  },
  {
   "cell_type": "code",
   "execution_count": null,
   "metadata": {},
   "outputs": [],
   "source": [
    "def apriori(itemBaskets, min_frequency, min_length):\n"
   ]
  }
 ],
 "metadata": {
  "language_info": {
   "codemirror_mode": {
    "name": "ipython",
    "version": 3
   },
   "file_extension": ".py",
   "mimetype": "text/x-python",
   "name": "python",
   "nbconvert_exporter": "python",
   "pygments_lexer": "ipython3",
   "version": "3.8.2-final"
  },
  "orig_nbformat": 2,
  "kernelspec": {
   "name": "python38264bit087c00796cd34d3ab2062ec5dd503d96",
   "display_name": "Python 3.8.2 64-bit"
  }
 },
 "nbformat": 4,
 "nbformat_minor": 2
}