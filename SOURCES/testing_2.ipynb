{
 "cells": [
  {
   "cell_type": "code",
   "execution_count": null,
   "metadata": {},
   "outputs": [],
   "source": [
    "import pandas as pd\n",
    "import csv\n",
    "from loader import *\n",
    "from pair_finder import *\n",
    "import time\n",
    "from random import seed\n",
    "import keyboard\n",
    "from random import seed\n",
    "from random import randint\n",
    "import math"
   ]
  },
  {
   "cell_type": "code",
   "execution_count": null,
   "metadata": {},
   "outputs": [],
   "source": [
    "ratings_path_s = \"DATA\\\\ratings.csv\"\n",
    "ratings_path = \"DATA\\\\ratings_100users.csv\"\n",
    "movies_path =  \"DATA\\\\movies.csv\"\n",
    "\n",
    "MinScore = 4\n",
    "MaxCombo = 4\n",
    "MinFrequency = 0.1\n",
    "#ratings_stream = createRatingsStream(ratings_path_s, MinScore)\n",
    "userBaskets, movie_list = CreateMovieBaskets(ratings_path, MinScore, 1000)\n",
    "movies_df = ReadMovies(movies_path, movie_list)"
   ]
  },
  {
   "cell_type": "code",
   "execution_count": null,
   "metadata": {},
   "outputs": [],
   "source": [
    "myApriori = myApriori(userBaskets, MinFrequency, MaxCombo)"
   ]
  }
 ],
 "metadata": {
  "kernelspec": {
   "display_name": "Python 3.8.2 64-bit",
   "language": "python",
   "name": "python38264bit087c00796cd34d3ab2062ec5dd503d96"
  },
  "language_info": {
   "codemirror_mode": {
    "name": "ipython",
    "version": 3
   },
   "file_extension": ".py",
   "mimetype": "text/x-python",
   "name": "python",
   "nbconvert_exporter": "python",
   "pygments_lexer": "ipython3",
   "version": "3.8.2-final"
  }
 },
 "nbformat": 4,
 "nbformat_minor": 4
}