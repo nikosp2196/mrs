{
 "cells": [
  {
   "cell_type": "code",
   "execution_count": 1,
   "metadata": {},
   "outputs": [],
   "source": [
    "import pandas as pd\n",
    "import csv\n",
    "from loader import *\n",
    "from pair_finder import *\n",
    "import time\n",
    "from random import seed\n",
    "import keyboard\n",
    "from random import seed\n",
    "from random import randint\n",
    "import math"
   ]
  },
  {
   "cell_type": "code",
   "execution_count": 2,
   "metadata": {},
   "outputs": [],
   "source": [
    "ratings_path_s = \"DATA\\\\ratings_100users_shuffled.csv\"\n",
    "ratings_path = \"DATA\\\\ratings.csv\"\n",
    "movies_path =  \"DATA\\\\movies.csv\"\n",
    "\n",
    "MinScore = 4\n",
    "MaxCombo = 4\n",
    "MinConfidence = 0.5\n",
    "MinLift = -1\n",
    "MaxLift = -1\n",
    "MinFrequency = 0.1\n",
    "#ratings_stream = createRatingsStream(ratings_path_s, MinScore)\n",
    "userBaskets= CreateMovieBaskets(ratings_path, MinScore)\n",
    "#movies_df = ReadMovies(movies_path, movie_list)"
   ]
  },
  {
   "cell_type": "code",
   "execution_count": 3,
   "metadata": {},
   "outputs": [
    {
     "output_type": "stream",
     "name": "stdout",
     "text": "1 ---------------------> 121\n2 ---------------------> 410\n3 ---------------------> 290\n4 ---------------------> 42\n"
    }
   ],
   "source": [
    "a_combos = myApriori(userBaskets, MinFrequency, MaxCombo)\n"
   ]
  },
  {
   "cell_type": "code",
   "execution_count": 7,
   "metadata": {},
   "outputs": [],
   "source": [
    "rules = rule_generator(a_combos, MinConfidence, 0.5, MaxLift)"
   ]
  },
  {
   "cell_type": "code",
   "execution_count": 8,
   "metadata": {},
   "outputs": [
    {
     "output_type": "execute_result",
     "data": {
      "text/plain": "               itemset                   rule    hypothesis    conclusion  \\\n0   [1196, 1210, 2571]  [1210, 2571]-->[1196]  [1210, 2571]        [1196]   \n1   [1196, 1210, 2571]  [1210]-->[1196, 2571]        [1210]  [1196, 2571]   \n2    [260, 1196, 1210]   [1196, 1210]-->[260]  [1196, 1210]         [260]   \n3    [260, 1196, 1210]   [1196]-->[260, 1210]        [1196]   [260, 1210]   \n4    [260, 1196, 1210]   [1210]-->[260, 1196]        [1210]   [260, 1196]   \n5   [4993, 5952, 7153]  [5952, 7153]-->[4993]  [5952, 7153]        [4993]   \n6   [4993, 5952, 7153]  [5952]-->[4993, 7153]        [5952]  [4993, 7153]   \n7   [4993, 5952, 7153]  [7153]-->[4993, 5952]        [7153]  [4993, 5952]   \n8        [47, 50, 296]       [50, 296]-->[47]     [50, 296]          [47]   \n9       [50, 296, 593]      [296, 593]-->[50]    [296, 593]          [50]   \n10      [47, 296, 593]      [296, 593]-->[47]    [296, 593]          [47]   \n11      [50, 296, 318]      [296, 318]-->[50]    [296, 318]          [50]   \n12      [47, 296, 356]      [296, 356]-->[47]    [296, 356]          [47]   \n13     [47, 296, 2959]     [296, 2959]-->[47]   [296, 2959]          [47]   \n14     [47, 296, 2571]     [296, 2571]-->[47]   [296, 2571]          [47]   \n\n    frequency  confidence      lift  interest  rule_id  \n0    0.142623    0.852941  0.517857 -0.132787        1  \n1    0.142623    0.580000  0.750000 -0.047541        2  \n2    0.175410    0.922414  0.532338 -0.154098        3  \n3    0.175410    0.636905  0.849206 -0.031148        4  \n4    0.175410    0.713333  0.743056 -0.060656        5  \n5    0.173770    0.905983  0.726027 -0.065574        6  \n6    0.173770    0.809160  0.876033 -0.024590        7  \n7    0.173770    0.757143  0.946429 -0.009836        8  \n8    0.114754    0.564516  0.500000 -0.114754        9  \n9    0.147541    0.592105  0.552147 -0.119672       10  \n10   0.144262    0.578947  0.628571 -0.085246       11  \n11   0.155738    0.601266  0.582822 -0.111475       12  \n12   0.116393    0.522059  0.507143 -0.113115       13  \n13   0.121311    0.606557  0.528571 -0.108197       14  \n14   0.121311    0.582677  0.528571 -0.108197       15  ",
      "text/html": "<div>\n<style scoped>\n    .dataframe tbody tr th:only-of-type {\n        vertical-align: middle;\n    }\n\n    .dataframe tbody tr th {\n        vertical-align: top;\n    }\n\n    .dataframe thead th {\n        text-align: right;\n    }\n</style>\n<table border=\"1\" class=\"dataframe\">\n  <thead>\n    <tr style=\"text-align: right;\">\n      <th></th>\n      <th>itemset</th>\n      <th>rule</th>\n      <th>hypothesis</th>\n      <th>conclusion</th>\n      <th>frequency</th>\n      <th>confidence</th>\n      <th>lift</th>\n      <th>interest</th>\n      <th>rule_id</th>\n    </tr>\n  </thead>\n  <tbody>\n    <tr>\n      <th>0</th>\n      <td>[1196, 1210, 2571]</td>\n      <td>[1210, 2571]--&gt;[1196]</td>\n      <td>[1210, 2571]</td>\n      <td>[1196]</td>\n      <td>0.142623</td>\n      <td>0.852941</td>\n      <td>0.517857</td>\n      <td>-0.132787</td>\n      <td>1</td>\n    </tr>\n    <tr>\n      <th>1</th>\n      <td>[1196, 1210, 2571]</td>\n      <td>[1210]--&gt;[1196, 2571]</td>\n      <td>[1210]</td>\n      <td>[1196, 2571]</td>\n      <td>0.142623</td>\n      <td>0.580000</td>\n      <td>0.750000</td>\n      <td>-0.047541</td>\n      <td>2</td>\n    </tr>\n    <tr>\n      <th>2</th>\n      <td>[260, 1196, 1210]</td>\n      <td>[1196, 1210]--&gt;[260]</td>\n      <td>[1196, 1210]</td>\n      <td>[260]</td>\n      <td>0.175410</td>\n      <td>0.922414</td>\n      <td>0.532338</td>\n      <td>-0.154098</td>\n      <td>3</td>\n    </tr>\n    <tr>\n      <th>3</th>\n      <td>[260, 1196, 1210]</td>\n      <td>[1196]--&gt;[260, 1210]</td>\n      <td>[1196]</td>\n      <td>[260, 1210]</td>\n      <td>0.175410</td>\n      <td>0.636905</td>\n      <td>0.849206</td>\n      <td>-0.031148</td>\n      <td>4</td>\n    </tr>\n    <tr>\n      <th>4</th>\n      <td>[260, 1196, 1210]</td>\n      <td>[1210]--&gt;[260, 1196]</td>\n      <td>[1210]</td>\n      <td>[260, 1196]</td>\n      <td>0.175410</td>\n      <td>0.713333</td>\n      <td>0.743056</td>\n      <td>-0.060656</td>\n      <td>5</td>\n    </tr>\n    <tr>\n      <th>5</th>\n      <td>[4993, 5952, 7153]</td>\n      <td>[5952, 7153]--&gt;[4993]</td>\n      <td>[5952, 7153]</td>\n      <td>[4993]</td>\n      <td>0.173770</td>\n      <td>0.905983</td>\n      <td>0.726027</td>\n      <td>-0.065574</td>\n      <td>6</td>\n    </tr>\n    <tr>\n      <th>6</th>\n      <td>[4993, 5952, 7153]</td>\n      <td>[5952]--&gt;[4993, 7153]</td>\n      <td>[5952]</td>\n      <td>[4993, 7153]</td>\n      <td>0.173770</td>\n      <td>0.809160</td>\n      <td>0.876033</td>\n      <td>-0.024590</td>\n      <td>7</td>\n    </tr>\n    <tr>\n      <th>7</th>\n      <td>[4993, 5952, 7153]</td>\n      <td>[7153]--&gt;[4993, 5952]</td>\n      <td>[7153]</td>\n      <td>[4993, 5952]</td>\n      <td>0.173770</td>\n      <td>0.757143</td>\n      <td>0.946429</td>\n      <td>-0.009836</td>\n      <td>8</td>\n    </tr>\n    <tr>\n      <th>8</th>\n      <td>[47, 50, 296]</td>\n      <td>[50, 296]--&gt;[47]</td>\n      <td>[50, 296]</td>\n      <td>[47]</td>\n      <td>0.114754</td>\n      <td>0.564516</td>\n      <td>0.500000</td>\n      <td>-0.114754</td>\n      <td>9</td>\n    </tr>\n    <tr>\n      <th>9</th>\n      <td>[50, 296, 593]</td>\n      <td>[296, 593]--&gt;[50]</td>\n      <td>[296, 593]</td>\n      <td>[50]</td>\n      <td>0.147541</td>\n      <td>0.592105</td>\n      <td>0.552147</td>\n      <td>-0.119672</td>\n      <td>10</td>\n    </tr>\n    <tr>\n      <th>10</th>\n      <td>[47, 296, 593]</td>\n      <td>[296, 593]--&gt;[47]</td>\n      <td>[296, 593]</td>\n      <td>[47]</td>\n      <td>0.144262</td>\n      <td>0.578947</td>\n      <td>0.628571</td>\n      <td>-0.085246</td>\n      <td>11</td>\n    </tr>\n    <tr>\n      <th>11</th>\n      <td>[50, 296, 318]</td>\n      <td>[296, 318]--&gt;[50]</td>\n      <td>[296, 318]</td>\n      <td>[50]</td>\n      <td>0.155738</td>\n      <td>0.601266</td>\n      <td>0.582822</td>\n      <td>-0.111475</td>\n      <td>12</td>\n    </tr>\n    <tr>\n      <th>12</th>\n      <td>[47, 296, 356]</td>\n      <td>[296, 356]--&gt;[47]</td>\n      <td>[296, 356]</td>\n      <td>[47]</td>\n      <td>0.116393</td>\n      <td>0.522059</td>\n      <td>0.507143</td>\n      <td>-0.113115</td>\n      <td>13</td>\n    </tr>\n    <tr>\n      <th>13</th>\n      <td>[47, 296, 2959]</td>\n      <td>[296, 2959]--&gt;[47]</td>\n      <td>[296, 2959]</td>\n      <td>[47]</td>\n      <td>0.121311</td>\n      <td>0.606557</td>\n      <td>0.528571</td>\n      <td>-0.108197</td>\n      <td>14</td>\n    </tr>\n    <tr>\n      <th>14</th>\n      <td>[47, 296, 2571]</td>\n      <td>[296, 2571]--&gt;[47]</td>\n      <td>[296, 2571]</td>\n      <td>[47]</td>\n      <td>0.121311</td>\n      <td>0.582677</td>\n      <td>0.528571</td>\n      <td>-0.108197</td>\n      <td>15</td>\n    </tr>\n  </tbody>\n</table>\n</div>"
     },
     "metadata": {},
     "execution_count": 8
    }
   ],
   "source": [
    "rules"
   ]
  }
 ],
 "metadata": {
  "language_info": {
   "codemirror_mode": {
    "name": "ipython",
    "version": 3
   },
   "file_extension": ".py",
   "mimetype": "text/x-python",
   "name": "python",
   "nbconvert_exporter": "python",
   "pygments_lexer": "ipython3",
   "version": "3.8.2-final"
  },
  "orig_nbformat": 2,
  "kernelspec": {
   "name": "python38264bit087c00796cd34d3ab2062ec5dd503d96",
   "display_name": "Python 3.8.2 64-bit"
  }
 },
 "nbformat": 4,
 "nbformat_minor": 2
}