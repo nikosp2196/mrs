{
 "cells": [
  {
   "cell_type": "code",
   "execution_count": 11,
   "metadata": {},
   "outputs": [],
   "source": [
    "import pandas as pd\n",
    "import csv\n",
    "from loader import *\n",
    "from pair_finder import *\n",
    "import time\n",
    "from random import seed\n",
    "import keyboard\n",
    "from random import seed\n",
    "from random import randint\n",
    "import math"
   ]
  },
  {
   "cell_type": "code",
   "execution_count": 16,
   "metadata": {},
   "outputs": [],
   "source": [
    "ratings_path_s = \"DATA\\\\ratings_100users_shuffled.csv\"\n",
    "ratings_path = \"DATA\\\\ratings_100users.csv\"\n",
    "movies_path =  \"DATA\\\\movies.csv\"\n",
    "\n",
    "MinScore = 4\n",
    "MaxCombo = 4\n",
    "MinFrequency = 0.1\n",
    "ratings_stream = createRatingsStream(ratings_path_s, MinScore)\n",
    "userBaskets, movie_list = CreateMovieBaskets(ratings_path, MinScore, 1000)\n",
    "#movies_df = ReadMovies(movies_path, movie_list)"
   ]
  },
  {
   "cell_type": "code",
   "execution_count": 24,
   "metadata": {},
   "outputs": [
    {
     "output_type": "stream",
     "name": "stdout",
     "text": "========FIRST EXECUTION OF SAMPLED APRIORI========\n1 ---------------------> 115\n2 ---------------------> 240\n3 ---------------------> 142\n4 ---------------------> 24\n========SECOND EXECUTION OF SAMPLED APRIORI=======\n1 ---------------------> 181\n2 ---------------------> 892\n3 ---------------------> 1498\n4 ---------------------> 1462\n*** 146 false-positives were removed in the second execution.\n"
    }
   ],
   "source": [
    "s_combos = sampledApriori(50, ratings_stream, MinFrequency, MaxCombo)\n",
    "s = export_combos(s_combos)"
   ]
  },
  {
   "cell_type": "code",
   "execution_count": 21,
   "metadata": {},
   "outputs": [
    {
     "output_type": "stream",
     "name": "stdout",
     "text": "1 ---------------------> 140\n2 ---------------------> 509\n3 ---------------------> 629\n4 ---------------------> 368\n"
    }
   ],
   "source": [
    "a_combos = myApriori(userBaskets, MinFrequency, MaxCombo)\n",
    "a = export_combos(a_combos)"
   ]
  },
  {
   "cell_type": "code",
   "execution_count": 25,
   "metadata": {},
   "outputs": [
    {
     "output_type": "execute_result",
     "data": {
      "text/plain": "{'tp': 346,\n 'fp': 29,\n 'fn': 1300,\n 'precision': 0.9226666666666666,\n 'recall': 0.21020656136087484,\n 'f1': 0.34240475012370114}"
     },
     "metadata": {},
     "execution_count": 25
    }
   ],
   "source": [
    "get_scores(a,s)"
   ]
  }
 ],
 "metadata": {
  "language_info": {
   "codemirror_mode": {
    "name": "ipython",
    "version": 3
   },
   "file_extension": ".py",
   "mimetype": "text/x-python",
   "name": "python",
   "nbconvert_exporter": "python",
   "pygments_lexer": "ipython3",
   "version": "3.8.2-final"
  },
  "orig_nbformat": 2,
  "kernelspec": {
   "name": "python38264bit087c00796cd34d3ab2062ec5dd503d96",
   "display_name": "Python 3.8.2 64-bit"
  }
 },
 "nbformat": 4,
 "nbformat_minor": 2
}