{
 "cells": [
  {
   "cell_type": "code",
   "execution_count": 1,
   "metadata": {},
   "outputs": [],
   "source": [
    "import pandas as pd\n",
    "import csv\n",
    "from loader import *\n",
    "from pair_finder import *\n",
    "import time\n",
    "from random import seed\n",
    "import keyboard\n",
    "from random import seed\n",
    "from random import randint\n",
    "import math"
   ]
  },
  {
   "cell_type": "code",
   "execution_count": 16,
   "metadata": {},
   "outputs": [],
   "source": [
    "ratings_path_s = \"DATA\\\\ratings_100users_shuffled.csv\"\n",
    "ratings_path = \"DATA\\\\ratings.csv\"\n",
    "movies_path =  \"DATA\\\\movies.csv\"\n",
    "\n",
    "MinScore = 4\n",
    "MaxCombo = 4\n",
    "MinConfidence = 0.5\n",
    "MinLift = -1\n",
    "MaxLift = -1\n",
    "MinFrequency = 0.1\n",
    "#ratings_stream = createRatingsStream(ratings_path_s, MinScore)\n",
    "userBaskets, movie_list = CreateMovieBaskets(ratings_path, MinScore)\n",
    "#movies_df = ReadMovies(movies_path, movie_list)"
   ]
  },
  {
   "cell_type": "code",
   "execution_count": 21,
   "metadata": {},
   "outputs": [
    {
     "output_type": "stream",
     "name": "stdout",
     "text": "1 ---------------------> 140\n2 ---------------------> 509\n3 ---------------------> 629\n4 ---------------------> 368\n"
    }
   ],
   "source": [
    "a_combos = myApriori(userBaskets, MinFrequency, MaxCombo)\n"
   ]
  }
 ],
 "metadata": {
  "language_info": {
   "codemirror_mode": {
    "name": "ipython",
    "version": 3
   },
   "file_extension": ".py",
   "mimetype": "text/x-python",
   "name": "python",
   "nbconvert_exporter": "python",
   "pygments_lexer": "ipython3",
   "version": "3.8.2-final"
  },
  "orig_nbformat": 2,
  "kernelspec": {
   "name": "python38264bit087c00796cd34d3ab2062ec5dd503d96",
   "display_name": "Python 3.8.2 64-bit"
  }
 },
 "nbformat": 4,
 "nbformat_minor": 2
}