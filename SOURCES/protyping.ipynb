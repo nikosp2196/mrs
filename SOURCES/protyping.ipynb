{
 "cells": [
  {
   "cell_type": "code",
   "execution_count": 5,
   "metadata": {},
   "outputs": [],
   "source": [
    "from loader import *\n",
    "from pair_finder import *\n",
    "import time\n",
    "\n",
    "ratings_path_s = \"DATA\\\\ratings_100users_shuffled.csv\"\n",
    "ratings_path = \"DATA\\\\ratings_100users.csv\"\n",
    "movies_path =  \"DATA\\\\movies.csv\"\n",
    "\n",
    "MinScore = 4\n",
    "MaxCombo = 4\n",
    "MinFrequency = 0.1"
   ]
  },
  {
   "cell_type": "code",
   "execution_count": 6,
   "metadata": {},
   "outputs": [],
   "source": [
    "ratings_stream = createRatingsStream(ratings_path_s, MinScore)\n",
    "userBaskets = CreateMovieBaskets(ratings_path, MinScore)\n",
    "movies_df = ReadMovies(movies_path)"
   ]
  },
  {
   "cell_type": "code",
   "execution_count": 7,
   "metadata": {},
   "outputs": [
    {
     "output_type": "stream",
     "name": "stdout",
     "text": "1 ---------------------> 140\n2 ---------------------> 509\n3 ---------------------> 629\n4 ---------------------> 368\nApriori Time--- 10.51239275932312 seconds ---\n"
    }
   ],
   "source": [
    "start_time = time.time()\n",
    "myApriori = myApriori(userBaskets, MinFrequency, MaxCombo)\n",
    "print(\"Apriori Time--- %s seconds ---\" % (time.time() - start_time))\n",
    "ca = export_combos(myApriori)"
   ]
  },
  {
   "cell_type": "code",
   "execution_count": null,
   "metadata": {},
   "outputs": [],
   "source": [
    "start_time = time.time()\n",
    "sampledApriori = sampledApriori(100, ratings_stream, MinFrequency, MaxCombo)\n",
    "print(\"Sampled Apriori Time--- %s seconds ---\" % (time.time() - start_time))\n",
    "sa = export_combos(sampledApriori)\n",
    "\n",
    "print(get_scores(ca,sa))"
   ]
  },
  {
   "cell_type": "code",
   "execution_count": 1,
   "metadata": {},
   "outputs": [
    {
     "output_type": "execute_result",
     "data": {
      "text/plain": "'Data\\\\ratings.cs'"
     },
     "metadata": {},
     "execution_count": 1
    }
   ],
   "source": [
    "x = 'Data\\\\ratings.csv'\n",
    "x[:-1]"
   ]
  }
 ],
 "metadata": {
  "language_info": {
   "codemirror_mode": {
    "name": "ipython",
    "version": 3
   },
   "file_extension": ".py",
   "mimetype": "text/x-python",
   "name": "python",
   "nbconvert_exporter": "python",
   "pygments_lexer": "ipython3",
   "version": "3.8.2-final"
  },
  "orig_nbformat": 2,
  "kernelspec": {
   "name": "python38264bit087c00796cd34d3ab2062ec5dd503d96",
   "display_name": "Python 3.8.2 64-bit"
  }
 },
 "nbformat": 4,
 "nbformat_minor": 2
}