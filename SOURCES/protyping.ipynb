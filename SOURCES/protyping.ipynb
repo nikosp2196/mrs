{
 "cells": [
  {
   "cell_type": "code",
   "execution_count": null,
   "metadata": {},
   "outputs": [],
   "source": [
    "import pandas as pd\n",
    "import csv\n",
    "from loader import *\n",
    "from pair_finder import *\n",
    "import time\n"
   ]
  },
  {
   "cell_type": "code",
   "execution_count": null,
   "metadata": {},
   "outputs": [],
   "source": [
    "ratings_path_s = \"DATA\\\\ratings_100users_shuffled.csv\"\n",
    "ratings_path = \"DATA\\\\ratings_100users.csv\"\n",
    "movies_path =  \"DATA\\\\movies.csv\"\n",
    "\n",
    "MinScore = 4\n",
    "MaxCombo = 4\n",
    "MinConfidence = 0.5\n",
    "MinLift = -1\n",
    "MaxLift = -1\n",
    "MinFrequency = 0.1\n",
    "#ratings_stream = createRatingsStream(ratings_path_s, MinScore)\n",
    "userBaskets= CreateMovieBaskets(ratings_path, MinScore)\n",
    "movies_df = ReadMovies(movies_path)"
   ]
  },
  {
   "cell_type": "code",
   "execution_count": null,
   "metadata": {},
   "outputs": [],
   "source": [
    "combos = myApriori(userBaskets, MinFrequency, MaxCombo)\n",
    "rules = generate_all_rules(combos, MinConfidence, MinLift, MaxLift)"
   ]
  },
  {
   "cell_type": "code",
   "execution_count": null,
   "metadata": {},
   "outputs": [],
   "source": [
    "rules"
   ]
  },
  {
   "cell_type": "code",
   "execution_count": null,
   "metadata": {},
   "outputs": [],
   "source": [
    "import matplotlib.pyplot as plt\n",
    "import numpy as np"
   ]
  },
  {
   "cell_type": "code",
   "execution_count": null,
   "metadata": {},
   "outputs": [],
   "source": []
  },
  {
   "cell_type": "code",
   "execution_count": null,
   "metadata": {},
   "outputs": [],
   "source": [
    "fit = np.polyfit(rules['lift'], rules['confidence'], 1)\n",
    "fit_fn = np.poly1d(fit) \n",
    "plt.plot(rules['lift'], rules['confidence'], 'yo', rules['lift'], fit_fn(rules_df['lift']))\n",
    "plt.xlabel('Lift')\n",
    "plt.ylabel('Confidence') \n",
    "plt.title('CONFIDENCE vs LIFT')\n",
    "plt.tight_layout()\n",
    "plt.show()"
   ]
  },
  {
   "cell_type": "code",
   "execution_count": null,
   "metadata": {},
   "outputs": [],
   "source": [
    "import draw_rules_graph as dr"
   ]
  },
  {
   "cell_type": "code",
   "execution_count": null,
   "metadata": {},
   "outputs": [],
   "source": []
  },
  {
   "cell_type": "code",
   "execution_count": null,
   "metadata": {},
   "outputs": [],
   "source": [
    "rules.head()"
   ]
  },
  {
   "cell_type": "code",
   "execution_count": null,
   "metadata": {},
   "outputs": [],
   "source": [
    "dr.draw_graph(rules,10, \"c\")"
   ]
  },
  {
   "cell_type": "code",
   "execution_count": null,
   "metadata": {},
   "outputs": [],
   "source": [
    "import math\n",
    "import numpy as np\n",
    "l_max = rules['lift'].max() + 0.5\n",
    "l_min = rules['lift'].min() - 0.5\n",
    "c_max = rules['confidence'].max() + 0.05\n",
    "c_min = rules['confidence'].min() - 0.05"
   ]
  },
  {
   "cell_type": "code",
   "execution_count": null,
   "metadata": {},
   "outputs": [],
   "source": [
    "l_max = rules['lift'].max() + 0.5\n",
    "l_min = rules['lift'].min() - 0.5\n",
    "c_max = rules['confidence'].max() + 0.05\n",
    "c_min = rules['confidence'].min() - 0.05\n",
    "\n",
    "\n",
    "\n",
    "f = plt.figure(figsize=(10,3))\n",
    "ax = f.add_subplot(121)\n",
    "ax.hist(rules.lift, weights=rules.frequency, bins=np.arange(l_min,l_max,0.5), range = (l_min, l_max), edgecolor='black')\n",
    "plt.xlabel('Lift')\n",
    "plt.ylabel('Frequency')\n",
    "plt.title('Histogram of LIFTS among discovered rules')\n",
    "plt.grid()\n",
    "\n",
    "ax2 = f.add_subplot(122)\n",
    "ax2.hist(rules.confidence, weights=rules.frequency,bins=np.arange(c_min,c_max,0.05), edgecolor='black', color='red')\n",
    "plt.xlabel('Confidence')\n",
    "plt.ylabel('Frequency')\n",
    "plt.title('Histogram of CONFIDENCES among discovered rules')\n",
    "plt.grid()\n",
    "\n",
    "plt.subplots_adjust(wspace=0.5)\n",
    "f.show()"
   ]
  },
  {
   "cell_type": "code",
   "execution_count": null,
   "metadata": {},
   "outputs": [],
   "source": [
    "movies_df.loc[movies_df['movieId'] == 48516]"
   ]
  },
  {
   "cell_type": "code",
   "execution_count": null,
   "metadata": {},
   "outputs": [],
   "source": [
    "n = 10\n",
    "tm_size = int(n * (n - 1) / 2)\n",
    "triangular_matrix = [0] * tm_size \n",
    "for i in range(1,n):\n",
    "    for j in range(i+1, n+1):\n",
    "        pos = int((i - 1) * ( n - i/2) + j - i) - 1\n",
    "        #print(pos)\n",
    "        print(i,j, \">>>>>\",pos)\n",
    "        try:\n",
    "            triangular_matrix[pos] = 1\n",
    "        except IndexError:\n",
    "            print(i,j)\n",
    "            print(pos)\n",
    "print(triangular_matrix)"
   ]
  },
  {
   "cell_type": "code",
   "execution_count": null,
   "metadata": {},
   "outputs": [],
   "source": [
    "n = 10\n",
    "tm_size = int(n * (n - 1) / 2)\n",
    "triangular_matrix = [0] * tm_size \n",
    "for j in range(2,n+1):\n",
    "    for i in range(1,j):\n",
    "        pos = (i - 1) * ( int(n - i/2)) + j - i - 1\n",
    "        #print(pos)\n",
    "        print(j,i, \">>>>>\",pos)\n",
    "        try:\n",
    "            triangular_matrix[pos] = 1\n",
    "        except IndexError:\n",
    "            print(i,j)\n",
    "            print(pos)\n",
    "print(triangular_matrix)"
   ]
  },
  {
   "cell_type": "code",
   "execution_count": null,
   "metadata": {},
   "outputs": [],
   "source": [
    "movies_df[movies_df['movieId'] == 3].movieId"
   ]
  },
  {
   "cell_type": "code",
   "execution_count": 7,
   "metadata": {},
   "outputs": [
    {
     "output_type": "execute_result",
     "data": {
      "text/plain": "32"
     },
     "metadata": {},
     "execution_count": 7
    }
   ],
   "source": [
    "b= int(130 / 4)\n",
    "b"
   ]
  }
 ],
 "metadata": {
  "language_info": {
   "codemirror_mode": {
    "name": "ipython",
    "version": 3
   },
   "file_extension": ".py",
   "mimetype": "text/x-python",
   "name": "python",
   "nbconvert_exporter": "python",
   "pygments_lexer": "ipython3",
   "version": "3.8.2-final"
  },
  "orig_nbformat": 2,
  "kernelspec": {
   "name": "python38264bit087c00796cd34d3ab2062ec5dd503d96",
   "display_name": "Python 3.8.2 64-bit"
  }
 },
 "nbformat": 4,
 "nbformat_minor": 2
}